{
 "cells": [
  {
   "cell_type": "code",
   "execution_count": 332,
   "metadata": {},
   "outputs": [],
   "source": [
    "import os\n",
    "import sys\n",
    "parent_dir = os.path.dirname(os.getcwd())\n",
    "grandparent_dir = os.path.dirname(parent_dir)\n",
    "sys.path.append(parent_dir)\n",
    "utils_dir = os.path.join(parent_dir, grandparent_dir, \"src\", \"utils\")\n",
    "sys.path.append(utils_dir)\n",
    "\n",
    "import pandas as pd\n",
    "import numpy as np\n",
    "import matplotlib.pyplot as plt\n",
    "\n",
    "import seaborn as sns\n",
    "\n",
    "import tensorflow as tf\n",
    "from lag_data import create_lagged_features"
   ]
  },
  {
   "cell_type": "code",
   "execution_count": 333,
   "metadata": {},
   "outputs": [],
   "source": [
    "X_path= os.path.join(\"..\",\"..\", \"data\",\"enriched_input\", \"X_train.csv\")\n",
    "X = pd.read_csv(X_path, delimiter=',')\n",
    "\n",
    "y_path= os.path.join(\"..\", \"..\", \"data\",\"enriched_input\", \"y_train.csv\")\n",
    "y = pd.read_csv(y_path, delimiter=',')"
   ]
  },
  {
   "cell_type": "code",
   "execution_count": 334,
   "metadata": {},
   "outputs": [
    {
     "data": {
      "text/plain": [
       "(10605, 16)"
      ]
     },
     "execution_count": 334,
     "metadata": {},
     "output_type": "execute_result"
    }
   ],
   "source": [
    "X.set_index(\"DELIVERY_START\", inplace=True)\n",
    "y.set_index(\"DELIVERY_START\", inplace=True)\n",
    "X.index = pd.to_datetime(X.index, utc=True)\n",
    "y.index = pd.to_datetime(y.index, utc=True)\n",
    "X.shape"
   ]
  },
  {
   "cell_type": "code",
   "execution_count": 335,
   "metadata": {},
   "outputs": [],
   "source": [
    "n_lags = 4  # Number of lagged observations\n",
    "X_lagged, y_lagged = create_lagged_features(X, y, n_lags)"
   ]
  },
  {
   "cell_type": "code",
   "execution_count": 336,
   "metadata": {},
   "outputs": [
    {
     "data": {
      "text/plain": [
       "((10601, 80), (10601, 1))"
      ]
     },
     "execution_count": 336,
     "metadata": {},
     "output_type": "execute_result"
    }
   ],
   "source": [
    "X_lagged.shape, y_lagged.shape"
   ]
  },
  {
   "cell_type": "code",
   "execution_count": null,
   "metadata": {},
   "outputs": [],
   "source": []
  },
  {
   "cell_type": "code",
   "execution_count": 337,
   "metadata": {},
   "outputs": [],
   "source": [
    "# Assuming you want to reserve the last 20% of your data for testing\n",
    "test_size = 0.2\n",
    "split_idx = int(len(X_lagged) * (1 - test_size))\n",
    "\n",
    "X_train, X_test = X_lagged[:split_idx], X_lagged[split_idx:]\n",
    "y_train, y_test = y_lagged[:split_idx], y_lagged[split_idx:]\n"
   ]
  },
  {
   "cell_type": "code",
   "execution_count": null,
   "metadata": {},
   "outputs": [],
   "source": []
  },
  {
   "cell_type": "code",
   "execution_count": 338,
   "metadata": {},
   "outputs": [
    {
     "data": {
      "text/html": [
       "<style>#sk-container-id-22 {color: black;}#sk-container-id-22 pre{padding: 0;}#sk-container-id-22 div.sk-toggleable {background-color: white;}#sk-container-id-22 label.sk-toggleable__label {cursor: pointer;display: block;width: 100%;margin-bottom: 0;padding: 0.3em;box-sizing: border-box;text-align: center;}#sk-container-id-22 label.sk-toggleable__label-arrow:before {content: \"▸\";float: left;margin-right: 0.25em;color: #696969;}#sk-container-id-22 label.sk-toggleable__label-arrow:hover:before {color: black;}#sk-container-id-22 div.sk-estimator:hover label.sk-toggleable__label-arrow:before {color: black;}#sk-container-id-22 div.sk-toggleable__content {max-height: 0;max-width: 0;overflow: hidden;text-align: left;background-color: #f0f8ff;}#sk-container-id-22 div.sk-toggleable__content pre {margin: 0.2em;color: black;border-radius: 0.25em;background-color: #f0f8ff;}#sk-container-id-22 input.sk-toggleable__control:checked~div.sk-toggleable__content {max-height: 200px;max-width: 100%;overflow: auto;}#sk-container-id-22 input.sk-toggleable__control:checked~label.sk-toggleable__label-arrow:before {content: \"▾\";}#sk-container-id-22 div.sk-estimator input.sk-toggleable__control:checked~label.sk-toggleable__label {background-color: #d4ebff;}#sk-container-id-22 div.sk-label input.sk-toggleable__control:checked~label.sk-toggleable__label {background-color: #d4ebff;}#sk-container-id-22 input.sk-hidden--visually {border: 0;clip: rect(1px 1px 1px 1px);clip: rect(1px, 1px, 1px, 1px);height: 1px;margin: -1px;overflow: hidden;padding: 0;position: absolute;width: 1px;}#sk-container-id-22 div.sk-estimator {font-family: monospace;background-color: #f0f8ff;border: 1px dotted black;border-radius: 0.25em;box-sizing: border-box;margin-bottom: 0.5em;}#sk-container-id-22 div.sk-estimator:hover {background-color: #d4ebff;}#sk-container-id-22 div.sk-parallel-item::after {content: \"\";width: 100%;border-bottom: 1px solid gray;flex-grow: 1;}#sk-container-id-22 div.sk-label:hover label.sk-toggleable__label {background-color: #d4ebff;}#sk-container-id-22 div.sk-serial::before {content: \"\";position: absolute;border-left: 1px solid gray;box-sizing: border-box;top: 0;bottom: 0;left: 50%;z-index: 0;}#sk-container-id-22 div.sk-serial {display: flex;flex-direction: column;align-items: center;background-color: white;padding-right: 0.2em;padding-left: 0.2em;position: relative;}#sk-container-id-22 div.sk-item {position: relative;z-index: 1;}#sk-container-id-22 div.sk-parallel {display: flex;align-items: stretch;justify-content: center;background-color: white;position: relative;}#sk-container-id-22 div.sk-item::before, #sk-container-id-22 div.sk-parallel-item::before {content: \"\";position: absolute;border-left: 1px solid gray;box-sizing: border-box;top: 0;bottom: 0;left: 50%;z-index: -1;}#sk-container-id-22 div.sk-parallel-item {display: flex;flex-direction: column;z-index: 1;position: relative;background-color: white;}#sk-container-id-22 div.sk-parallel-item:first-child::after {align-self: flex-end;width: 50%;}#sk-container-id-22 div.sk-parallel-item:last-child::after {align-self: flex-start;width: 50%;}#sk-container-id-22 div.sk-parallel-item:only-child::after {width: 0;}#sk-container-id-22 div.sk-dashed-wrapped {border: 1px dashed gray;margin: 0 0.4em 0.5em 0.4em;box-sizing: border-box;padding-bottom: 0.4em;background-color: white;}#sk-container-id-22 div.sk-label label {font-family: monospace;font-weight: bold;display: inline-block;line-height: 1.2em;}#sk-container-id-22 div.sk-label-container {text-align: center;}#sk-container-id-22 div.sk-container {/* jupyter's `normalize.less` sets `[hidden] { display: none; }` but bootstrap.min.css set `[hidden] { display: none !important; }` so we also need the `!important` here to be able to override the default hidden behavior on the sphinx rendered scikit-learn.org. See: https://github.com/scikit-learn/scikit-learn/issues/21755 */display: inline-block !important;position: relative;}#sk-container-id-22 div.sk-text-repr-fallback {display: none;}</style><div id=\"sk-container-id-22\" class=\"sk-top-container\"><div class=\"sk-text-repr-fallback\"><pre>LinearRegression()</pre><b>In a Jupyter environment, please rerun this cell to show the HTML representation or trust the notebook. <br />On GitHub, the HTML representation is unable to render, please try loading this page with nbviewer.org.</b></div><div class=\"sk-container\" hidden><div class=\"sk-item\"><div class=\"sk-estimator sk-toggleable\"><input class=\"sk-toggleable__control sk-hidden--visually\" id=\"sk-estimator-id-22\" type=\"checkbox\" checked><label for=\"sk-estimator-id-22\" class=\"sk-toggleable__label sk-toggleable__label-arrow\">LinearRegression</label><div class=\"sk-toggleable__content\"><pre>LinearRegression()</pre></div></div></div></div></div>"
      ],
      "text/plain": [
       "LinearRegression()"
      ]
     },
     "execution_count": 338,
     "metadata": {},
     "output_type": "execute_result"
    }
   ],
   "source": [
    "from sklearn.linear_model import LinearRegression\n",
    "\n",
    "model = LinearRegression()\n",
    "model.fit(X_train, y_train)\n"
   ]
  },
  {
   "cell_type": "code",
   "execution_count": 339,
   "metadata": {},
   "outputs": [
    {
     "name": "stdout",
     "output_type": "stream",
     "text": [
      "Test MSE: 9142.534720470892\n"
     ]
    }
   ],
   "source": [
    "from sklearn.metrics import mean_squared_error\n",
    "\n",
    "predictions = model.predict(X_test)\n",
    "mse = mean_squared_error(y_test, predictions)\n",
    "print(f\"Test MSE: {mse}\")"
   ]
  },
  {
   "cell_type": "code",
   "execution_count": 340,
   "metadata": {},
   "outputs": [
    {
     "data": {
      "text/plain": [
       "((7421, 80), (1060, 80))"
      ]
     },
     "execution_count": 340,
     "metadata": {},
     "output_type": "execute_result"
    }
   ],
   "source": [
    "test_size = 0.2\n",
    "val_size = 0.1\n",
    "\n",
    "# Calculate the number of examples that will be in the test set\n",
    "num_test = int(len(X_lagged) * test_size)\n",
    "\n",
    "# Calculate the number of examples that will be in the validation set\n",
    "num_val = int(len(X_lagged) * val_size)\n",
    "\n",
    "# Calculate the index where the training set ends and the validation set begins\n",
    "train_end_idx = len(X_lagged) - num_val - num_test\n",
    "\n",
    "# Calculate the index where the validation set ends and the test set begins\n",
    "val_end_idx = train_end_idx + num_val\n",
    "\n",
    "# Split the data into training, validation, and test sets\n",
    "X_train = X_lagged[:train_end_idx]\n",
    "y_train = y_lagged[:train_end_idx]\n",
    "\n",
    "X_val = X_lagged[train_end_idx:val_end_idx]\n",
    "y_val = y_lagged[train_end_idx:val_end_idx]\n",
    "\n",
    "X_test = X_lagged[val_end_idx:]\n",
    "y_test = y_lagged[val_end_idx:]\n",
    "\n",
    "X_train.shape, X_val.shape"
   ]
  },
  {
   "cell_type": "code",
   "execution_count": 341,
   "metadata": {},
   "outputs": [],
   "source": [
    "def df_to_X_y(df, window_size = 5) :\n",
    "    df_as_np = df.to_numpy()\n",
    "    X = []\n",
    "    y = []\n",
    "    for i in range(len(df_as_np)-window_size) :\n",
    "        row = [[a] for a in df_as_np[i:i+5]]\n",
    "        X.append(row)\n",
    "        label = df_as_np[i+5]\n",
    "        y.append(label)\n",
    "    return np.array(X), np.array(y)"
   ]
  },
  {
   "cell_type": "code",
   "execution_count": 342,
   "metadata": {},
   "outputs": [
    {
     "data": {
      "text/plain": [
       "'window_size = 5\\nX, y = df_to_X_y(X.join(y), window_size)'"
      ]
     },
     "execution_count": 342,
     "metadata": {},
     "output_type": "execute_result"
    }
   ],
   "source": [
    "\"\"\"window_size = 5\n",
    "X, y = df_to_X_y(X.join(y), window_size)\"\"\""
   ]
  },
  {
   "cell_type": "code",
   "execution_count": 343,
   "metadata": {},
   "outputs": [
    {
     "data": {
      "text/plain": [
       "((10605, 16), (10605, 1))"
      ]
     },
     "execution_count": 343,
     "metadata": {},
     "output_type": "execute_result"
    }
   ],
   "source": [
    "X.shape, y.shape"
   ]
  },
  {
   "cell_type": "code",
   "execution_count": 344,
   "metadata": {},
   "outputs": [
    {
     "data": {
      "text/html": [
       "<div>\n",
       "<style scoped>\n",
       "    .dataframe tbody tr th:only-of-type {\n",
       "        vertical-align: middle;\n",
       "    }\n",
       "\n",
       "    .dataframe tbody tr th {\n",
       "        vertical-align: top;\n",
       "    }\n",
       "\n",
       "    .dataframe thead th {\n",
       "        text-align: right;\n",
       "    }\n",
       "</style>\n",
       "<table border=\"1\" class=\"dataframe\">\n",
       "  <thead>\n",
       "    <tr style=\"text-align: right;\">\n",
       "      <th></th>\n",
       "      <th>spot_id_delta</th>\n",
       "    </tr>\n",
       "    <tr>\n",
       "      <th>DELIVERY_START</th>\n",
       "      <th></th>\n",
       "    </tr>\n",
       "  </thead>\n",
       "  <tbody>\n",
       "    <tr>\n",
       "      <th>2022-01-01 01:00:00+00:00</th>\n",
       "      <td>-36.874770</td>\n",
       "    </tr>\n",
       "    <tr>\n",
       "      <th>2022-01-01 02:00:00+00:00</th>\n",
       "      <td>-12.643588</td>\n",
       "    </tr>\n",
       "    <tr>\n",
       "      <th>2022-01-01 03:00:00+00:00</th>\n",
       "      <td>-1.950193</td>\n",
       "    </tr>\n",
       "    <tr>\n",
       "      <th>2022-01-01 04:00:00+00:00</th>\n",
       "      <td>1.938272</td>\n",
       "    </tr>\n",
       "    <tr>\n",
       "      <th>2022-01-01 05:00:00+00:00</th>\n",
       "      <td>0.199907</td>\n",
       "    </tr>\n",
       "    <tr>\n",
       "      <th>...</th>\n",
       "      <td>...</td>\n",
       "    </tr>\n",
       "    <tr>\n",
       "      <th>2023-03-29 17:00:00+00:00</th>\n",
       "      <td>6.029303</td>\n",
       "    </tr>\n",
       "    <tr>\n",
       "      <th>2023-03-29 18:00:00+00:00</th>\n",
       "      <td>13.576177</td>\n",
       "    </tr>\n",
       "    <tr>\n",
       "      <th>2023-03-29 19:00:00+00:00</th>\n",
       "      <td>17.478945</td>\n",
       "    </tr>\n",
       "    <tr>\n",
       "      <th>2023-03-29 20:00:00+00:00</th>\n",
       "      <td>17.559407</td>\n",
       "    </tr>\n",
       "    <tr>\n",
       "      <th>2023-03-29 21:00:00+00:00</th>\n",
       "      <td>16.503259</td>\n",
       "    </tr>\n",
       "  </tbody>\n",
       "</table>\n",
       "<p>10605 rows × 1 columns</p>\n",
       "</div>"
      ],
      "text/plain": [
       "                           spot_id_delta\n",
       "DELIVERY_START                          \n",
       "2022-01-01 01:00:00+00:00     -36.874770\n",
       "2022-01-01 02:00:00+00:00     -12.643588\n",
       "2022-01-01 03:00:00+00:00      -1.950193\n",
       "2022-01-01 04:00:00+00:00       1.938272\n",
       "2022-01-01 05:00:00+00:00       0.199907\n",
       "...                                  ...\n",
       "2023-03-29 17:00:00+00:00       6.029303\n",
       "2023-03-29 18:00:00+00:00      13.576177\n",
       "2023-03-29 19:00:00+00:00      17.478945\n",
       "2023-03-29 20:00:00+00:00      17.559407\n",
       "2023-03-29 21:00:00+00:00      16.503259\n",
       "\n",
       "[10605 rows x 1 columns]"
      ]
     },
     "execution_count": 344,
     "metadata": {},
     "output_type": "execute_result"
    }
   ],
   "source": [
    "y"
   ]
  },
  {
   "cell_type": "code",
   "execution_count": 345,
   "metadata": {},
   "outputs": [
    {
     "name": "stdout",
     "output_type": "stream",
     "text": [
      "Model: \"sequential_22\"\n",
      "_________________________________________________________________\n",
      " Layer (type)                Output Shape              Param #   \n",
      "=================================================================\n",
      " lstm_50 (LSTM)              (None, 80, 64)            16896     \n",
      "                                                                 \n",
      " lstm_51 (LSTM)              (None, 80, 128)           98816     \n",
      "                                                                 \n",
      " lstm_52 (LSTM)              (None, 32)                20608     \n",
      "                                                                 \n",
      " dense_40 (Dense)            (None, 8)                 264       \n",
      "                                                                 \n",
      " dense_41 (Dense)            (None, 1)                 9         \n",
      "                                                                 \n",
      "=================================================================\n",
      "Total params: 136593 (533.57 KB)\n",
      "Trainable params: 136593 (533.57 KB)\n",
      "Non-trainable params: 0 (0.00 Byte)\n",
      "_________________________________________________________________\n"
     ]
    }
   ],
   "source": [
    "from tensorflow.keras.models import Sequential\n",
    "from tensorflow.keras.layers import *\n",
    "from tensorflow.keras.callbacks import ModelCheckpoint\n",
    "from tensorflow.keras.losses import MeanSquaredError\n",
    "from tensorflow.keras.metrics import RootMeanSquaredError\n",
    "from tensorflow.keras.optimizers import Adam\n",
    "\n",
    "model1 = Sequential()\n",
    "model1.add(InputLayer((80, 1)))\n",
    "model1.add(LSTM(64, return_sequences=True))  # Set return_sequences=True\n",
    "model1.add(LSTM(128, return_sequences=True))  # Set return_sequences=True for the second LSTM as well\n",
    "model1.add(LSTM(32))\n",
    "model1.add(Dense(8, \"relu\"))\n",
    "model1.add(Dense(1, \"linear\"))\n",
    "\n",
    "model1.summary()\n"
   ]
  },
  {
   "cell_type": "code",
   "execution_count": 346,
   "metadata": {},
   "outputs": [],
   "source": [
    "cp = ModelCheckpoint(\"model1/\", save_best_only = True)\n",
    "model1.compile(loss=MeanSquaredError(), optimizer=Adam(learning_rate=0.0001), metrics=[RootMeanSquaredError()])"
   ]
  },
  {
   "cell_type": "code",
   "execution_count": 347,
   "metadata": {},
   "outputs": [
    {
     "data": {
      "text/plain": [
       "'model1.fit(X_train, y_train, validation_data=(X_val, y_val), epochs = 10, callbacks=[cp])'"
      ]
     },
     "execution_count": 347,
     "metadata": {},
     "output_type": "execute_result"
    }
   ],
   "source": [
    "\"\"\"model1.fit(X_train, y_train, validation_data=(X_val, y_val), epochs = 10, callbacks=[cp])\"\"\""
   ]
  },
  {
   "cell_type": "code",
   "execution_count": 348,
   "metadata": {},
   "outputs": [],
   "source": [
    "from tensorflow.keras.models import load_model\n",
    "\n",
    "model1 = load_model(\"model1/\")\n",
    "\n"
   ]
  },
  {
   "cell_type": "code",
   "execution_count": 349,
   "metadata": {},
   "outputs": [
    {
     "data": {
      "text/plain": [
       "\"from sklearn.preprocessing import LabelBinarizer\\nlb = LabelBinarizer()\\ny_lagged['spot_id_delta'] = lb.fit_transform(y_lagged['spot_id_delta'])  # This will convert [-1, 1] to [0, 1] and then to [[1, 0], [0, 1]]\""
      ]
     },
     "execution_count": 349,
     "metadata": {},
     "output_type": "execute_result"
    }
   ],
   "source": [
    "y_lagged['spot_id_delta'] = y_lagged['spot_id_delta'].apply(lambda x: -1 if x < 0 else 1)\n",
    "\n",
    "\"\"\"from sklearn.preprocessing import LabelBinarizer\n",
    "lb = LabelBinarizer()\n",
    "y_lagged['spot_id_delta'] = lb.fit_transform(y_lagged['spot_id_delta'])  # This will convert [-1, 1] to [0, 1] and then to [[1, 0], [0, 1]]\"\"\""
   ]
  },
  {
   "cell_type": "code",
   "execution_count": 350,
   "metadata": {},
   "outputs": [
    {
     "data": {
      "text/html": [
       "<div>\n",
       "<style scoped>\n",
       "    .dataframe tbody tr th:only-of-type {\n",
       "        vertical-align: middle;\n",
       "    }\n",
       "\n",
       "    .dataframe tbody tr th {\n",
       "        vertical-align: top;\n",
       "    }\n",
       "\n",
       "    .dataframe thead th {\n",
       "        text-align: right;\n",
       "    }\n",
       "</style>\n",
       "<table border=\"1\" class=\"dataframe\">\n",
       "  <thead>\n",
       "    <tr style=\"text-align: right;\">\n",
       "      <th></th>\n",
       "      <th>spot_id_delta</th>\n",
       "    </tr>\n",
       "    <tr>\n",
       "      <th>DELIVERY_START</th>\n",
       "      <th></th>\n",
       "    </tr>\n",
       "  </thead>\n",
       "  <tbody>\n",
       "    <tr>\n",
       "      <th>2022-01-01 05:00:00+00:00</th>\n",
       "      <td>1</td>\n",
       "    </tr>\n",
       "    <tr>\n",
       "      <th>2022-01-01 06:00:00+00:00</th>\n",
       "      <td>-1</td>\n",
       "    </tr>\n",
       "    <tr>\n",
       "      <th>2022-01-01 07:00:00+00:00</th>\n",
       "      <td>-1</td>\n",
       "    </tr>\n",
       "    <tr>\n",
       "      <th>2022-01-01 08:00:00+00:00</th>\n",
       "      <td>-1</td>\n",
       "    </tr>\n",
       "    <tr>\n",
       "      <th>2022-01-01 09:00:00+00:00</th>\n",
       "      <td>-1</td>\n",
       "    </tr>\n",
       "    <tr>\n",
       "      <th>...</th>\n",
       "      <td>...</td>\n",
       "    </tr>\n",
       "    <tr>\n",
       "      <th>2023-03-29 17:00:00+00:00</th>\n",
       "      <td>1</td>\n",
       "    </tr>\n",
       "    <tr>\n",
       "      <th>2023-03-29 18:00:00+00:00</th>\n",
       "      <td>1</td>\n",
       "    </tr>\n",
       "    <tr>\n",
       "      <th>2023-03-29 19:00:00+00:00</th>\n",
       "      <td>1</td>\n",
       "    </tr>\n",
       "    <tr>\n",
       "      <th>2023-03-29 20:00:00+00:00</th>\n",
       "      <td>1</td>\n",
       "    </tr>\n",
       "    <tr>\n",
       "      <th>2023-03-29 21:00:00+00:00</th>\n",
       "      <td>1</td>\n",
       "    </tr>\n",
       "  </tbody>\n",
       "</table>\n",
       "<p>10601 rows × 1 columns</p>\n",
       "</div>"
      ],
      "text/plain": [
       "                           spot_id_delta\n",
       "DELIVERY_START                          \n",
       "2022-01-01 05:00:00+00:00              1\n",
       "2022-01-01 06:00:00+00:00             -1\n",
       "2022-01-01 07:00:00+00:00             -1\n",
       "2022-01-01 08:00:00+00:00             -1\n",
       "2022-01-01 09:00:00+00:00             -1\n",
       "...                                  ...\n",
       "2023-03-29 17:00:00+00:00              1\n",
       "2023-03-29 18:00:00+00:00              1\n",
       "2023-03-29 19:00:00+00:00              1\n",
       "2023-03-29 20:00:00+00:00              1\n",
       "2023-03-29 21:00:00+00:00              1\n",
       "\n",
       "[10601 rows x 1 columns]"
      ]
     },
     "execution_count": 350,
     "metadata": {},
     "output_type": "execute_result"
    }
   ],
   "source": [
    "y_lagged"
   ]
  },
  {
   "cell_type": "code",
   "execution_count": 351,
   "metadata": {},
   "outputs": [
    {
     "data": {
      "text/plain": [
       "((7421, 80), (1060, 80))"
      ]
     },
     "execution_count": 351,
     "metadata": {},
     "output_type": "execute_result"
    }
   ],
   "source": [
    "test_size = 0.2\n",
    "val_size = 0.1\n",
    "\n",
    "# Calculate the number of examples that will be in the test set\n",
    "num_test = int(len(X_lagged) * test_size)\n",
    "\n",
    "# Calculate the number of examples that will be in the validation set\n",
    "num_val = int(len(X_lagged) * val_size)\n",
    "\n",
    "# Calculate the index where the training set ends and the validation set begins\n",
    "train_end_idx = len(X_lagged) - num_val - num_test\n",
    "\n",
    "# Calculate the index where the validation set ends and the test set begins\n",
    "val_end_idx = train_end_idx + num_val\n",
    "\n",
    "# Split the data into training, validation, and test sets\n",
    "X_train = X_lagged[:train_end_idx]\n",
    "y_train = y_lagged[:train_end_idx]\n",
    "\n",
    "X_val = X_lagged[train_end_idx:val_end_idx]\n",
    "y_val = y_lagged[train_end_idx:val_end_idx]\n",
    "\n",
    "X_test = X_lagged[val_end_idx:]\n",
    "y_test = y_lagged[val_end_idx:]\n",
    "\n",
    "X_train.shape, X_val.shape"
   ]
  },
  {
   "cell_type": "code",
   "execution_count": 352,
   "metadata": {},
   "outputs": [],
   "source": [
    "from tensorflow.keras.models import Sequential\n",
    "from tensorflow.keras.layers import InputLayer, LSTM, Dense\n",
    "from tensorflow.keras.optimizers import Adam\n",
    "\n",
    "num_classes = 1  # Adjust based on your dataset\n",
    "\n",
    "model2 = Sequential()\n",
    "model2.add(InputLayer(input_shape=(80, 1)))\n",
    "model2.add(LSTM(64, return_sequences=True))\n",
    "model2.add(LSTM(128, return_sequences=True))\n",
    "model2.add(LSTM(128))\n",
    "model2.add(Dense(64, activation='relu'))  # An additional Dense layer\n",
    "model2.add(Dense(8, activation='relu'))\n",
    "model2.add(Dense(num_classes, activation='softmax'))  # Output layer for multi-class classification\n",
    "\n",
    "cp = ModelCheckpoint(\"model2/\", save_best_only=True)\n",
    "model2.compile(loss='binary_crossentropy', optimizer=Adam(learning_rate=0.0001), metrics=['accuracy'])"
   ]
  },
  {
   "cell_type": "code",
   "execution_count": 353,
   "metadata": {},
   "outputs": [
    {
     "data": {
      "text/plain": [
       "array([ 1, -1], dtype=int64)"
      ]
     },
     "execution_count": 353,
     "metadata": {},
     "output_type": "execute_result"
    }
   ],
   "source": [
    "y_lagged['spot_id_delta'].unique()"
   ]
  },
  {
   "cell_type": "code",
   "execution_count": 354,
   "metadata": {},
   "outputs": [
    {
     "name": "stdout",
     "output_type": "stream",
     "text": [
      "Epoch 1/10\n",
      "232/232 [==============================] - ETA: 0s - loss: -0.1524 - accuracy: 0.4789INFO:tensorflow:Assets written to: model2\\assets\n"
     ]
    },
    {
     "name": "stderr",
     "output_type": "stream",
     "text": [
      "INFO:tensorflow:Assets written to: model2\\assets\n"
     ]
    },
    {
     "name": "stdout",
     "output_type": "stream",
     "text": [
      "232/232 [==============================] - 72s 287ms/step - loss: -0.1524 - accuracy: 0.4789 - val_loss: 0.1946 - val_accuracy: 0.5057\n",
      "Epoch 2/10\n",
      "232/232 [==============================] - ETA: 0s - loss: -0.8743 - accuracy: 0.4789INFO:tensorflow:Assets written to: model2\\assets\n"
     ]
    },
    {
     "name": "stderr",
     "output_type": "stream",
     "text": [
      "INFO:tensorflow:Assets written to: model2\\assets\n"
     ]
    },
    {
     "name": "stdout",
     "output_type": "stream",
     "text": [
      "232/232 [==============================] - 97s 420ms/step - loss: -0.8743 - accuracy: 0.4789 - val_loss: 0.0793 - val_accuracy: 0.5057\n",
      "Epoch 3/10\n",
      "232/232 [==============================] - 92s 398ms/step - loss: -1.4354 - accuracy: 0.4789 - val_loss: 0.1429 - val_accuracy: 0.5057\n",
      "Epoch 4/10\n",
      "232/232 [==============================] - 94s 404ms/step - loss: -2.5265 - accuracy: 0.4789 - val_loss: 0.7995 - val_accuracy: 0.5057\n",
      "Epoch 5/10\n",
      "232/232 [==============================] - 88s 378ms/step - loss: -3.6457 - accuracy: 0.4789 - val_loss: 1.0912 - val_accuracy: 0.5057\n",
      "Epoch 6/10\n",
      "232/232 [==============================] - 90s 387ms/step - loss: -4.9060 - accuracy: 0.4789 - val_loss: 1.1918 - val_accuracy: 0.5057\n",
      "Epoch 7/10\n",
      "232/232 [==============================] - 531s 2s/step - loss: -4.9792 - accuracy: 0.4789 - val_loss: 1.0023 - val_accuracy: 0.5057\n",
      "Epoch 8/10\n",
      "232/232 [==============================] - 39662s 172s/step - loss: -6.2812 - accuracy: 0.4789 - val_loss: 1.5374 - val_accuracy: 0.5057\n",
      "Epoch 9/10\n",
      "232/232 [==============================] - 77s 331ms/step - loss: -9.1072 - accuracy: 0.4789 - val_loss: 3.2770 - val_accuracy: 0.5057\n",
      "Epoch 10/10\n",
      "232/232 [==============================] - 74s 318ms/step - loss: -11.0858 - accuracy: 0.4789 - val_loss: 2.6888 - val_accuracy: 0.5057\n"
     ]
    }
   ],
   "source": [
    "history = model2.fit(\n",
    "    X_train, y_train,\n",
    "    validation_data=(X_val, y_val),\n",
    "    epochs=10,\n",
    "    callbacks=[cp]\n",
    ")"
   ]
  },
  {
   "cell_type": "code",
   "execution_count": null,
   "metadata": {},
   "outputs": [],
   "source": []
  }
 ],
 "metadata": {
  "kernelspec": {
   "display_name": "elmy_env",
   "language": "python",
   "name": "python3"
  },
  "language_info": {
   "codemirror_mode": {
    "name": "ipython",
    "version": 3
   },
   "file_extension": ".py",
   "mimetype": "text/x-python",
   "name": "python",
   "nbconvert_exporter": "python",
   "pygments_lexer": "ipython3",
   "version": "3.8.8"
  }
 },
 "nbformat": 4,
 "nbformat_minor": 2
}
