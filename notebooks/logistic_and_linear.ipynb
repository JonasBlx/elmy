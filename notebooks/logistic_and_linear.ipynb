{
 "cells": [
  {
   "cell_type": "code",
   "execution_count": 48,
   "metadata": {},
   "outputs": [],
   "source": [
    "from sklearn.model_selection import train_test_split\n",
    "from sklearn.linear_model import LogisticRegression, LinearRegression\n",
    "from sklearn.metrics import accuracy_score, mean_squared_error\n",
    "import numpy as np\n",
    "import os\n",
    "import sys\n",
    "parent_dir = os.path.dirname(os.getcwd())\n",
    "sys.path.append(parent_dir)\n",
    "utils_dir = os.path.join(parent_dir, \"src\", \"utils\")\n",
    "sys.path.append(utils_dir)\n",
    "\n",
    "import pandas as pd\n",
    "import numpy as np\n",
    "import matplotlib.pyplot as plt\n",
    "\n",
    "import seaborn as sns\n",
    "\n",
    "import xgboost as xgb\n",
    "\n",
    "X_path= os.path.join(\"..\", \"data\",\"enriched_input\", \"X_train.csv\")\n",
    "X = pd.read_csv(X_path, delimiter=',')\n",
    "\n",
    "y_path= os.path.join(\"..\", \"data\",\"enriched_input\", \"y_train.csv\")\n",
    "y = pd.read_csv(y_path, delimiter=',')\n",
    "\n",
    "X.set_index(\"DELIVERY_START\", inplace=True)\n",
    "y.set_index(\"DELIVERY_START\", inplace=True)\n",
    "X.index = pd.to_datetime(X.index, utc=True)\n",
    "y.index = pd.to_datetime(y.index, utc=True)"
   ]
  },
  {
   "cell_type": "code",
   "execution_count": 49,
   "metadata": {},
   "outputs": [],
   "source": [
    "def decompose_y(y):\n",
    "    \"\"\"\n",
    "    Décompose les écarts en direction et magnitude.\n",
    "    \n",
    "    :param y: Numpy array ou une liste des écarts réels.\n",
    "    :return: Tuple de deux arrays - direction (1 pour positif, 0 pour négatif), magnitude (valeur absolue de l'écart).\n",
    "    \"\"\"\n",
    "    y_direction = (y > 0).astype(int)\n",
    "    y_magnitude = np.abs(y)\n",
    "    return y_direction, y_magnitude\n"
   ]
  },
  {
   "cell_type": "code",
   "execution_count": 50,
   "metadata": {},
   "outputs": [
    {
     "name": "stdout",
     "output_type": "stream",
     "text": [
      "Accuracy de la classification: 0.5464403583215465\n",
      "MSE de la régression: 563.647296943993\n"
     ]
    }
   ],
   "source": [
    "y_direction, y_magnitude = decompose_y(y['spot_id_delta'])\n",
    "\n",
    "# Division en jeux d'entraînement et de test\n",
    "X_train, X_test, y_dir_train, y_dir_test, y_mag_train, y_mag_test = train_test_split(X, y_direction, y_magnitude, test_size=0.2, random_state=42)\n",
    "\n",
    "clf = LogisticRegression(max_iter=1000)  # Augmentation de max_iter pour assurer la convergence\n",
    "clf.fit(X_train, y_dir_train)\n",
    "y_dir_pred = clf.predict(X_test)\n",
    "\n",
    "# Évaluation de la performance de la classification\n",
    "accuracy = accuracy_score(y_dir_test, y_dir_pred)\n",
    "print(f'Accuracy de la classification: {accuracy}')\n",
    "\n",
    "# Étape 2: Régression pour prédire l'ampleur sur les données correctement prédites\n",
    "# Filtrage de X_test et y_mag_test en fonction des prédictions correctes de direction\n",
    "correct_preds_index = y_dir_test == y_dir_pred  # Index des prédictions correctes\n",
    "#X_test_filtered = X_test[correct_preds_index]\n",
    "#y_mag_test_filtered = y_mag_test[correct_preds_index]\n",
    "\n",
    "# Entraînement du modèle de régression sur l'ensemble d'entraînement complet (pour cet exemple)\n",
    "reg = LinearRegression()\n",
    "reg.fit(X_train, y_mag_train)\n",
    "\n",
    "# Prédiction de l'ampleur sur l'ensemble filtré\n",
    "y_mag_pred = reg.predict(X_test)\n",
    "\n",
    "# Évaluation de la performance de la régression\n",
    "mse = mean_squared_error(y_mag_test, y_mag_pred)\n",
    "print(f'MSE de la régression: {mse}')"
   ]
  },
  {
   "cell_type": "code",
   "execution_count": 51,
   "metadata": {},
   "outputs": [],
   "source": [
    "def reconstruct_y(y_direction, y_magnitude):\n",
    "    \"\"\"\n",
    "    Reconstruit les écarts à partir de la direction et de la magnitude.\n",
    "    \n",
    "    :param y_direction: Numpy array ou une liste indiquant la direction des écarts.\n",
    "    :param y_magnitude: Numpy array ou une liste indiquant l'ampleur des écarts.\n",
    "    :return: Numpy array des écarts reconstruits.\n",
    "    \"\"\"\n",
    "    sign_factors = y_direction * 2 - 1  # Convertit 0 en -1 et 1 reste 1\n",
    "    y_reconstructed = y_magnitude * sign_factors\n",
    "    return y_reconstructed"
   ]
  },
  {
   "cell_type": "code",
   "execution_count": 52,
   "metadata": {},
   "outputs": [],
   "source": [
    "y_test = reconstruct_y(y_dir_test, y_mag_test)\n",
    "y_pred = reconstruct_y(y_dir_pred, y_mag_pred)"
   ]
  },
  {
   "cell_type": "code",
   "execution_count": 53,
   "metadata": {},
   "outputs": [],
   "source": [
    "def weighted_accuracy_score(y_true_reconstructed, y_pred_simulated):\n",
    "    \"\"\"\n",
    "    Calcule le score de précision pondérée en utilisant les écarts réels et prédits reconstruits.\n",
    "    \n",
    "    :param y_true_reconstructed: Numpy array des écarts réels reconstruits.\n",
    "    :param y_pred_simulated: Numpy array des écarts prédits.\n",
    "    :return: Score de précision pondérée.\n",
    "    \"\"\"\n",
    "    # Calcul de la direction correcte (1 pour correct, 0 pour incorrect)\n",
    "    correct_direction = ((y_true_reconstructed * y_pred_simulated) > 0).astype(int)\n",
    "    \n",
    "    # Calcul des poids basés sur l'ampleur de l'écart réel\n",
    "    weights = np.abs(y_true_reconstructed)\n",
    "    weights /= np.sum(weights)  # Normalisation des poids\n",
    "    \n",
    "    # Calcul du score de précision pondérée\n",
    "    weighted_accuracy = np.sum(correct_direction * weights)\n",
    "    \n",
    "    return weighted_accuracy"
   ]
  },
  {
   "cell_type": "code",
   "execution_count": 54,
   "metadata": {},
   "outputs": [
    {
     "data": {
      "text/plain": [
       "0.5716691613619274"
      ]
     },
     "execution_count": 54,
     "metadata": {},
     "output_type": "execute_result"
    }
   ],
   "source": [
    "score = weighted_accuracy_score(y_test, y_pred)\n",
    "score"
   ]
  },
  {
   "cell_type": "markdown",
   "metadata": {},
   "source": [
    "Weighted Accuracy Score: 0.5739121623696769"
   ]
  },
  {
   "cell_type": "code",
   "execution_count": 55,
   "metadata": {},
   "outputs": [],
   "source": [
    "X_test_path= os.path.join(\"..\", \"data\",\"enriched_input\", \"X_test.csv\")\n",
    "X_test = pd.read_csv(X_test_path, delimiter=',')\n",
    "\n",
    "delivery_start = X_test[\"DELIVERY_START\"]"
   ]
  },
  {
   "cell_type": "code",
   "execution_count": 56,
   "metadata": {},
   "outputs": [],
   "source": [
    "y_direction, y_magnitude = decompose_y(y['spot_id_delta'])"
   ]
  },
  {
   "cell_type": "code",
   "execution_count": 57,
   "metadata": {},
   "outputs": [],
   "source": [
    "X_test.set_index(\"DELIVERY_START\", inplace=True)\n",
    "\n",
    "X_test.index = pd.to_datetime(X_test.index, utc=True)"
   ]
  },
  {
   "cell_type": "code",
   "execution_count": 58,
   "metadata": {},
   "outputs": [],
   "source": [
    "y_dir_pred = clf.predict(X_test)\n",
    "y_mag_pred = reg.predict(X_test)"
   ]
  },
  {
   "cell_type": "code",
   "execution_count": 59,
   "metadata": {},
   "outputs": [],
   "source": [
    "y_pred = reconstruct_y(y_dir_pred, y_mag_pred)"
   ]
  },
  {
   "cell_type": "code",
   "execution_count": 60,
   "metadata": {},
   "outputs": [
    {
     "data": {
      "text/plain": [
       "array([  1.65137852,  -0.79148243,  -4.10669415, ..., -27.3306063 ,\n",
       "       -24.05702052, -24.87482423])"
      ]
     },
     "execution_count": 60,
     "metadata": {},
     "output_type": "execute_result"
    }
   ],
   "source": [
    "y_pred"
   ]
  },
  {
   "cell_type": "code",
   "execution_count": 61,
   "metadata": {},
   "outputs": [],
   "source": [
    "d = {\"DELIVERY_START\" : delivery_start, \"spot_id_delta\" : y_pred.reshape(-1)}\n",
    "y_pred = pd.DataFrame(data = d)\n",
    "\n",
    "y_pred.to_csv(\"../data/output_y_test/y_test_result_logistic_n_regression1.csv\", index = False)"
   ]
  }
 ],
 "metadata": {
  "kernelspec": {
   "display_name": "elmy_env",
   "language": "python",
   "name": "python3"
  },
  "language_info": {
   "codemirror_mode": {
    "name": "ipython",
    "version": 3
   },
   "file_extension": ".py",
   "mimetype": "text/x-python",
   "name": "python",
   "nbconvert_exporter": "python",
   "pygments_lexer": "ipython3",
   "version": "3.8.8"
  }
 },
 "nbformat": 4,
 "nbformat_minor": 2
}
