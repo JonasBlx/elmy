{
 "cells": [
  {
   "cell_type": "code",
   "execution_count": 28,
   "metadata": {},
   "outputs": [],
   "source": [
    "import os\n",
    "import sys\n",
    "parent_dir = os.path.dirname(os.getcwd())\n",
    "sys.path.append(parent_dir)\n",
    "utils_dir = os.path.join(parent_dir, \"src\", \"utils\")\n",
    "sys.path.append(utils_dir)\n",
    "import pandas as pd\n",
    "import plotly.graph_objects as go\n",
    "import numpy as np\n",
    "import matplotlib.pyplot as plt\n",
    "from sklearn.preprocessing import StandardScaler\n",
    "from sklearn.linear_model import LinearRegression\n",
    "from sklearn.feature_selection import SequentialFeatureSelector\n",
    "from sklearn.model_selection import cross_val_score\n",
    "from sklearn.metrics import mean_squared_error, r2_score\n",
    "from sklearn.model_selection import train_test_split\n",
    "from tensorflow.keras.models import Sequential\n",
    "from tensorflow.keras.layers import GRU, Dense, Dropout\n",
    "from tensorflow.keras.optimizers import Adam\n",
    "from tensorflow.keras.callbacks import EarlyStopping, ReduceLROnPlateau\n",
    "from process_data import process_data\n",
    "from weighted_accuracy import weighted_accuracy_scorer\n",
    "from plot_learning_curves import plot_learning_curves"
   ]
  },
  {
   "cell_type": "code",
   "execution_count": 29,
   "metadata": {},
   "outputs": [],
   "source": [
    "X_train_path= os.path.join(\"..\", \"data\",\"input\", \"X_train_Wwou3IE.csv\")\n",
    "X_train_preprocessed = pd.read_csv(X_train_path, delimiter=',')\n",
    "X_test_path= os.path.join(\"..\", \"data\",\"input\", \"X_test_GgyECq8.csv\")\n",
    "X_test_preprocessed = pd.read_csv(X_test_path, delimiter=',')\n",
    "y_train_path= os.path.join(\"..\", \"data\",\"input\", \"y_train_jJtXgMX.csv\")\n",
    "y_train_preprocessed = pd.read_csv(y_train_path, delimiter=',')\n",
    "\n",
    "delivery_start = X_test_preprocessed[\"DELIVERY_START\"]\n",
    "\n",
    "cold_rate = {\n",
    "    1: 100,  # January\n",
    "    2: 90,   # February\n",
    "    3: 70,   # March\n",
    "    4: 50,   # April\n",
    "    5: 30,   # May\n",
    "    6: 10,   # June\n",
    "    7: 0,    # July\n",
    "    8: 5,    # August\n",
    "    9: 20,   # September\n",
    "    10: 40,  # October\n",
    "    11: 60,  # November\n",
    "    12: 80   # December\n",
    "}\n",
    "\n",
    "X_train_preprocessed['DELIVERY_START'] = pd.to_datetime(X_train_preprocessed['DELIVERY_START'], utc = True)\n",
    "X_test_preprocessed['DELIVERY_START'] = pd.to_datetime(X_test_preprocessed['DELIVERY_START'], utc = True)\n",
    "\n",
    "X_train_preprocessed['month'] = X_train_preprocessed['DELIVERY_START'].dt.month\n",
    "X_train_preprocessed['cold_rate'] = X_train_preprocessed['month'].map(cold_rate)\n",
    "X_train_preprocessed.drop('month', axis=1, inplace=True)\n",
    "X_test_preprocessed['month'] = X_test_preprocessed['DELIVERY_START'].dt.month\n",
    "X_test_preprocessed['cold_rate'] = X_test_preprocessed['month'].map(cold_rate)\n",
    "X_test_preprocessed.drop('month', axis=1, inplace=True)"
   ]
  },
  {
   "cell_type": "code",
   "execution_count": 30,
   "metadata": {},
   "outputs": [],
   "source": [
    "X_train = process_data(X_train_preprocessed.copy(deep=True), \"predicted_spot_price\", None, \"standard\")\n",
    "X_test = process_data(X_test_preprocessed.copy(deep=True), \"predicted_spot_price\", None, \"standard\")\n",
    "y_train = process_data(y_train_preprocessed.copy(deep=True), None, None, None)\n",
    "y_train['spot_id_delta'] = y_train['spot_id_delta'].apply(lambda x: -1 if x < 0 else 1)"
   ]
  },
  {
   "cell_type": "code",
   "execution_count": 31,
   "metadata": {},
   "outputs": [
    {
     "name": "stderr",
     "output_type": "stream",
     "text": [
      "c:\\Users\\emac\\Documents\\MachineLearningAvance\\elmy\\elmy\\elmy_env\\lib\\site-packages\\sklearn\\neighbors\\_classification.py:233: DataConversionWarning: A column-vector y was passed when a 1d array was expected. Please change the shape of y to (n_samples,), for example using ravel().\n",
      "  return self._fit(X, y)\n"
     ]
    },
    {
     "data": {
      "text/plain": [
       "(4942, 2)"
      ]
     },
     "execution_count": 31,
     "metadata": {},
     "output_type": "execute_result"
    }
   ],
   "source": [
    "import pandas as pd\n",
    "from sklearn.model_selection import train_test_split\n",
    "from sklearn.neighbors import KNeighborsClassifier\n",
    "from sklearn.metrics import accuracy_score\n",
    "from sklearn.preprocessing import StandardScaler\n",
    "\n",
    "# Initialize the KNN model\n",
    "# You can adjust 'n_neighbors' based on your validation tests to find the best value\n",
    "knn = KNeighborsClassifier(n_neighbors=5)\n",
    "\n",
    "# Fit the model on your training data\n",
    "knn.fit(X_train, y_train)\n",
    "\n",
    "# Predict on your test data\n",
    "y_pred = knn.predict(X_test)\n",
    "\n",
    "d = {\"DELIVERY_START\" : delivery_start, \"spot_id_delta\" : y_pred.reshape(-1)}\n",
    "y_pred = pd.DataFrame(data = d)\n",
    "\n",
    "y_pred.to_csv(\"../data/output_y_test/y_test_knn1.csv\", index = False)\n",
    "y_pred.shape"
   ]
  },
  {
   "cell_type": "markdown",
   "metadata": {},
   "source": [
    "Accuracy around : 0.6723243752946724 <> score of 0,488"
   ]
  },
  {
   "cell_type": "code",
   "execution_count": null,
   "metadata": {},
   "outputs": [],
   "source": []
  }
 ],
 "metadata": {
  "kernelspec": {
   "display_name": "elmy_env",
   "language": "python",
   "name": "python3"
  },
  "language_info": {
   "codemirror_mode": {
    "name": "ipython",
    "version": 3
   },
   "file_extension": ".py",
   "mimetype": "text/x-python",
   "name": "python",
   "nbconvert_exporter": "python",
   "pygments_lexer": "ipython3",
   "version": "3.8.8"
  }
 },
 "nbformat": 4,
 "nbformat_minor": 2
}
