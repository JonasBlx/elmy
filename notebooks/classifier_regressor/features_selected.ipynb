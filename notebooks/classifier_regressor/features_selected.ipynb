{
 "cells": [
  {
   "cell_type": "code",
   "execution_count": 2,
   "metadata": {},
   "outputs": [],
   "source": [
    "import os\n",
    "import sys\n",
    "parent_dir = os.path.dirname(os.getcwd())\n",
    "grandparent_dir = os.path.dirname(parent_dir)\n",
    "sys.path.append(parent_dir)\n",
    "utils_dir = os.path.join(parent_dir, grandparent_dir, \"src\", \"utils\")\n",
    "sys.path.append(utils_dir)\n",
    "\n",
    "from weighted_accuracy_and_tools import decompose_y, reconstruct_y, weighted_accuracy_score\n",
    "from process_data import process_data\n",
    "from sklearn.model_selection import train_test_split\n",
    "from sklearn.neighbors import KNeighborsClassifier\n",
    "from sklearn.tree import DecisionTreeClassifier\n",
    "from sklearn.linear_model import LogisticRegression\n",
    "from sklearn.ensemble import RandomForestClassifier, RandomForestRegressor\n",
    "from sklearn.ensemble import RandomForestClassifier, GradientBoostingClassifier, VotingClassifier\n",
    "from sklearn.linear_model import LinearRegression\n",
    "from sklearn.tree import DecisionTreeRegressor\n",
    "from sklearn.ensemble import RandomForestRegressor, GradientBoostingRegressor, VotingRegressor\n",
    "from sklearn.neighbors import KNeighborsRegressor\n",
    "import numpy as np\n",
    "import pandas as pd"
   ]
  },
  {
   "cell_type": "code",
   "execution_count": 25,
   "metadata": {},
   "outputs": [],
   "source": [
    "X_train_path= os.path.join(\"..\", \"..\", \"data\",\"enriched_input\", \"X_train.csv\")\n",
    "X_train = pd.read_csv(X_train_path, delimiter=',')\n",
    "\n",
    "X_test_path= os.path.join(\"..\", \"..\", \"data\",\"enriched_input\", \"X_test.csv\")\n",
    "X_test = pd.read_csv(X_test_path, delimiter=',')\n",
    "delivery_start = X_test[\"DELIVERY_START\"]\n",
    "\n",
    "y_train_path= os.path.join(\"..\", \"..\", \"data\",\"enriched_input\", \"y_train.csv\")\n",
    "y_train = pd.read_csv(y_train_path, delimiter=',')"
   ]
  },
  {
   "cell_type": "code",
   "execution_count": 26,
   "metadata": {},
   "outputs": [],
   "source": [
    "X_train.set_index(\"DELIVERY_START\", inplace=True)\n",
    "X_test.set_index(\"DELIVERY_START\", inplace=True)\n",
    "y_train.set_index(\"DELIVERY_START\", inplace=True)\n",
    "X_train.index = pd.to_datetime(X_train.index, utc=True)\n",
    "X_test.index = pd.to_datetime(X_test.index, utc=True)\n",
    "y_train.index = pd.to_datetime(y_train.index, utc=True)"
   ]
  },
  {
   "cell_type": "markdown",
   "metadata": {},
   "source": [
    "Regressor :"
   ]
  },
  {
   "cell_type": "code",
   "execution_count": 27,
   "metadata": {},
   "outputs": [],
   "source": [
    "columns_to_keep = [\n",
    "    'load_forecast',\n",
    "    'coal_power_available',\n",
    "    'gas_power_available',\n",
    "    'nucelear_power_available',\n",
    "    'wind_power_forecasts_average',\n",
    "    'wind_power_forecasts_std',\n",
    "    'dayofweek',\n",
    "    'quarter',\n",
    "    'month',\n",
    "    'year'\n",
    "]\n",
    "\n",
    "# Filter the DataFrame to keep only the selected columns\n",
    "X_train_regression = X_train[columns_to_keep]\n",
    "X_test_regression = X_test[columns_to_keep]"
   ]
  },
  {
   "cell_type": "code",
   "execution_count": 28,
   "metadata": {},
   "outputs": [],
   "source": [
    "y_train_direction, y_train_magnitude = decompose_y(y_train['spot_id_delta'])"
   ]
  },
  {
   "cell_type": "code",
   "execution_count": 29,
   "metadata": {},
   "outputs": [],
   "source": [
    "linear_reg = LinearRegression()\n",
    "decision_tree_reg = DecisionTreeRegressor(random_state=42)\n",
    "random_forest_reg = RandomForestRegressor(random_state=42)\n",
    "gradient_boosting_reg = GradientBoostingRegressor(random_state=42)\n",
    "knn_reg = KNeighborsRegressor()\n",
    "\n",
    "# Create the voting regressor with all models\n",
    "voting_reg = VotingRegressor(\n",
    "    estimators=[\n",
    "        ('linear_reg', linear_reg),\n",
    "        ('decision_tree_reg', decision_tree_reg),\n",
    "        ('random_forest_reg', random_forest_reg),\n",
    "        ('gradient_boosting_reg', gradient_boosting_reg),\n",
    "        ('knn_reg', knn_reg)\n",
    "    ]\n",
    ")\n",
    "\n",
    "# Train the voting regressor\n",
    "voting_reg.fit(X_train_regression, y_train_magnitude)\n",
    "\n",
    "# Make predictions and evaluate the voting regressor\n",
    "y_pred_magnitude = voting_reg.predict(X_test_regression)"
   ]
  },
  {
   "cell_type": "markdown",
   "metadata": {},
   "source": [
    "Classifier :"
   ]
  },
  {
   "cell_type": "code",
   "execution_count": 30,
   "metadata": {},
   "outputs": [],
   "source": [
    "selected_features = [\n",
    "    'load_forecast', \n",
    "    'nucelear_power_available', \n",
    "    'wind_power_forecasts_average', \n",
    "    'wind_power_forecasts_std', \n",
    "    'hour', \n",
    "    'dayofweek',\n",
    "]\n",
    "\n",
    "# Filter X_train and X_test to keep only the selected columns\n",
    "X_train_classifier = X_train[selected_features]\n",
    "X_test_classifier = X_test[selected_features]"
   ]
  },
  {
   "cell_type": "code",
   "execution_count": 31,
   "metadata": {},
   "outputs": [],
   "source": [
    "# Re-instantiate the individual classifiers\n",
    "knn = KNeighborsClassifier(n_neighbors=5)\n",
    "dtree = DecisionTreeClassifier(random_state=42)\n",
    "logreg = LogisticRegression(random_state=42)\n",
    "random_forest = RandomForestClassifier(random_state=42)\n",
    "gradient_boosting = GradientBoostingClassifier(random_state=42)\n",
    "\n",
    "# Create the extended voting classifier with all models\n",
    "extended_voting_clf = VotingClassifier(\n",
    "    estimators=[\n",
    "        ('knn', knn),\n",
    "        ('dtree', dtree),\n",
    "        ('logreg', logreg),\n",
    "        ('random_forest', random_forest),\n",
    "        ('gradient_boosting', gradient_boosting)\n",
    "    ],\n",
    "    voting='hard'\n",
    ")\n",
    "\n",
    "# Train the extended voting classifier on scaled data\n",
    "extended_voting_clf.fit(X_train_classifier, y_train_direction)\n",
    "\n",
    "# Make predictions and evaluate the extended model\n",
    "y_pred_direction = extended_voting_clf.predict(X_test_classifier)"
   ]
  },
  {
   "cell_type": "code",
   "execution_count": 32,
   "metadata": {},
   "outputs": [],
   "source": [
    "y_pred = reconstruct_y(y_pred_direction, y_pred_magnitude)\n",
    "d = {\"DELIVERY_START\" : delivery_start, \"spot_id_delta\" : y_pred.reshape(-1)}\n",
    "y_pred = pd.DataFrame(data = d)\n",
    "\n",
    "y_pred.to_csv(\"../../data/output_y_test/y_result_voting2.csv\", index = False)"
   ]
  },
  {
   "cell_type": "markdown",
   "metadata": {},
   "source": [
    "Score : 0,4888"
   ]
  },
  {
   "cell_type": "markdown",
   "metadata": {},
   "source": [
    "Try with classic data"
   ]
  },
  {
   "cell_type": "code",
   "execution_count": 11,
   "metadata": {},
   "outputs": [],
   "source": [
    "X_train_path= os.path.join(\"..\", \"..\", \"data\",\"original_input\", \"X_train_Wwou3IE.csv\")\n",
    "X_train_preprocessed = pd.read_csv(X_train_path, delimiter=',')\n",
    "X_test_path= os.path.join(\"..\", \"..\", \"data\",\"original_input\", \"X_test_GgyECq8.csv\")\n",
    "X_test_preprocessed = pd.read_csv(X_test_path, delimiter=',')\n",
    "y_train_path= os.path.join(\"..\", \"..\", \"data\",\"original_input\", \"y_train_jJtXgMX.csv\")\n",
    "y_train_preprocessed = pd.read_csv(y_train_path, delimiter=',')\n",
    "delivery_start = X_test_preprocessed[\"DELIVERY_START\"]"
   ]
  },
  {
   "cell_type": "code",
   "execution_count": 12,
   "metadata": {},
   "outputs": [],
   "source": [
    "X_train = process_data(X_train_preprocessed.copy(deep=True), \"predicted_spot_price\", None, \"standard\")\n",
    "X_test = process_data(X_test_preprocessed.copy(deep=True), \"predicted_spot_price\", None, \"standard\")\n",
    "y_train = process_data(y_train_preprocessed.copy(deep=True), None, None, None)"
   ]
  },
  {
   "cell_type": "code",
   "execution_count": 35,
   "metadata": {},
   "outputs": [],
   "source": [
    "y_train_direction, y_train_magnitude = decompose_y(y_train['spot_id_delta'])"
   ]
  },
  {
   "cell_type": "code",
   "execution_count": 36,
   "metadata": {},
   "outputs": [],
   "source": [
    "linear_reg = LinearRegression()\n",
    "decision_tree_reg = DecisionTreeRegressor(random_state=42)\n",
    "random_forest_reg = RandomForestRegressor(random_state=42)\n",
    "gradient_boosting_reg = GradientBoostingRegressor(random_state=42)\n",
    "knn_reg = KNeighborsRegressor()\n",
    "\n",
    "# Create the voting regressor with all models\n",
    "voting_reg = VotingRegressor(\n",
    "    estimators=[\n",
    "        ('linear_reg', linear_reg),\n",
    "        ('decision_tree_reg', decision_tree_reg),\n",
    "        ('random_forest_reg', random_forest_reg),\n",
    "        ('gradient_boosting_reg', gradient_boosting_reg),\n",
    "        ('knn_reg', knn_reg)\n",
    "    ]\n",
    ")\n",
    "\n",
    "# Train the voting regressor\n",
    "voting_reg.fit(X_train, y_train_magnitude)\n",
    "\n",
    "# Make predictions and evaluate the voting regressor\n",
    "y_pred_magnitude = voting_reg.predict(X_test)"
   ]
  },
  {
   "cell_type": "code",
   "execution_count": 37,
   "metadata": {},
   "outputs": [],
   "source": [
    "# Re-instantiate the individual classifiers\n",
    "knn = KNeighborsClassifier(n_neighbors=5)\n",
    "dtree = DecisionTreeClassifier(random_state=42)\n",
    "logreg = LogisticRegression(random_state=42)\n",
    "random_forest = RandomForestClassifier(random_state=42)\n",
    "gradient_boosting = GradientBoostingClassifier(random_state=42)\n",
    "\n",
    "# Create the extended voting classifier with all models\n",
    "extended_voting_clf = VotingClassifier(\n",
    "    estimators=[\n",
    "        ('knn', knn),\n",
    "        ('dtree', dtree),\n",
    "        ('logreg', logreg),\n",
    "        ('random_forest', random_forest),\n",
    "        ('gradient_boosting', gradient_boosting)\n",
    "    ],\n",
    "    voting='hard'\n",
    ")\n",
    "\n",
    "# Train the extended voting classifier on scaled data\n",
    "extended_voting_clf.fit(X_train, y_train_direction)\n",
    "\n",
    "# Make predictions and evaluate the extended model\n",
    "y_pred_direction = extended_voting_clf.predict(X_test)"
   ]
  },
  {
   "cell_type": "code",
   "execution_count": 38,
   "metadata": {},
   "outputs": [],
   "source": [
    "y_pred = reconstruct_y(y_pred_direction, y_pred_magnitude)\n",
    "d = {\"DELIVERY_START\" : delivery_start, \"spot_id_delta\" : y_pred.reshape(-1)}\n",
    "y_pred = pd.DataFrame(data = d)\n",
    "\n",
    "y_pred.to_csv(\"../../data/output_y_test/y_result_voting4.csv\", index = False)"
   ]
  },
  {
   "cell_type": "markdown",
   "metadata": {},
   "source": [
    "Select features only for rd forest"
   ]
  },
  {
   "cell_type": "code",
   "execution_count": 18,
   "metadata": {},
   "outputs": [],
   "source": [
    "X_train_regression = X_train[['load_forecast', 'nucelear_power_available', 'wind_power_forecasts_average', 'wind_power_forecasts_std']]\n",
    "X_test_regression = X_test[['load_forecast', 'nucelear_power_available', 'wind_power_forecasts_average', 'wind_power_forecasts_std']]\n",
    "X_train_classification = X_train[['load_forecast', 'nucelear_power_available', 'wind_power_forecasts_average', \"wind_power_forecasts_std\"]]\n",
    "X_test_classification = X_train[['load_forecast', 'nucelear_power_available', 'wind_power_forecasts_average', \"wind_power_forecasts_std\"]]\n"
   ]
  },
  {
   "cell_type": "code",
   "execution_count": 19,
   "metadata": {},
   "outputs": [],
   "source": [
    "y_train_direction, y_train_magnitude = decompose_y(y_train['spot_id_delta'])\n"
   ]
  },
  {
   "cell_type": "code",
   "execution_count": 20,
   "metadata": {},
   "outputs": [],
   "source": [
    "clf = RandomForestClassifier(random_state=42)\n",
    "clf.fit(X_train, y_train_direction)\n",
    "y_pred_direction = clf.predict(X_test)\n",
    "reg = RandomForestRegressor(random_state=42)\n",
    "reg.fit(X_train, y_train_magnitude)\n",
    "y_pred_magnitude = reg.predict(X_test)"
   ]
  },
  {
   "cell_type": "code",
   "execution_count": 21,
   "metadata": {},
   "outputs": [],
   "source": [
    "y_pred = reconstruct_y(y_pred_direction, y_pred_magnitude)"
   ]
  },
  {
   "cell_type": "code",
   "execution_count": 22,
   "metadata": {},
   "outputs": [],
   "source": [
    "d = {\"DELIVERY_START\" : delivery_start, \"spot_id_delta\" : y_pred.reshape(-1)}\n",
    "y_pred = pd.DataFrame(data = d)\n",
    "\n",
    "y_pred.to_csv(\"../../data/output_y_test/y_result_double_rd_forest5.csv\", index = False)"
   ]
  },
  {
   "cell_type": "markdown",
   "metadata": {},
   "source": [
    "#Make the test for y_result_double_rd_forest5.csv, score : "
   ]
  },
  {
   "cell_type": "markdown",
   "metadata": {},
   "source": [
    "Voting classifier with RF, DT and KNN"
   ]
  },
  {
   "cell_type": "code",
   "execution_count": 24,
   "metadata": {},
   "outputs": [],
   "source": [
    "rf = RandomForestClassifier(random_state=42)\n",
    "dt = DecisionTreeClassifier(random_state=42)\n",
    "knn = KNeighborsClassifier(n_neighbors=5)\n",
    "\n",
    "# Create the voting classifier\n",
    "voting_clf = VotingClassifier(estimators=[('rf', rf), ('dt', dt), ('knn', knn)], voting='hard')\n",
    "\n",
    "# Train the voting classifier\n",
    "voting_clf.fit(X_train, y_train_direction)\n",
    "\n",
    "# Make predictions with the voting classifier\n",
    "y_pred_direction = voting_clf.predict(X_test)"
   ]
  },
  {
   "cell_type": "markdown",
   "metadata": {},
   "source": [
    "Voting regressor using RdF, DT, Knn"
   ]
  },
  {
   "cell_type": "code",
   "execution_count": 23,
   "metadata": {},
   "outputs": [],
   "source": [
    "rf = RandomForestRegressor(random_state=42)\n",
    "dt = DecisionTreeRegressor(random_state=42)\n",
    "knn = KNeighborsRegressor(n_neighbors=5)\n",
    "\n",
    "# Create the voting regressor\n",
    "voting_reg = VotingRegressor(estimators=[('rf', rf), ('dt', dt), ('knn', knn)])\n",
    "\n",
    "# Train the voting regressor\n",
    "voting_reg.fit(X_train, y_train_magnitude)\n",
    "\n",
    "# Make predictions with the voting regressor\n",
    "y_pred_magnitude = voting_reg.predict(X_test)"
   ]
  },
  {
   "cell_type": "code",
   "execution_count": 25,
   "metadata": {},
   "outputs": [],
   "source": [
    "y_pred = reconstruct_y(y_pred_direction, y_pred_magnitude)\n",
    "d = {\"DELIVERY_START\" : delivery_start, \"spot_id_delta\" : y_pred.reshape(-1)}\n",
    "y_pred = pd.DataFrame(data = d)\n",
    "\n",
    "y_pred.to_csv(\"../../data/output_y_test/y_result_voting6.csv\", index = False)"
   ]
  },
  {
   "cell_type": "markdown",
   "metadata": {},
   "source": [
    "#Make the test for y_result_voting6.csv, score : "
   ]
  },
  {
   "cell_type": "code",
   "execution_count": null,
   "metadata": {},
   "outputs": [],
   "source": []
  }
 ],
 "metadata": {
  "kernelspec": {
   "display_name": "elmy_env",
   "language": "python",
   "name": "python3"
  },
  "language_info": {
   "codemirror_mode": {
    "name": "ipython",
    "version": 3
   },
   "file_extension": ".py",
   "mimetype": "text/x-python",
   "name": "python",
   "nbconvert_exporter": "python",
   "pygments_lexer": "ipython3",
   "version": "3.8.8"
  }
 },
 "nbformat": 4,
 "nbformat_minor": 2
}
