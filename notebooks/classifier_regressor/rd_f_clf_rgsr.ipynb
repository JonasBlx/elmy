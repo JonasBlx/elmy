{
 "cells": [
  {
   "cell_type": "code",
   "execution_count": 29,
   "metadata": {},
   "outputs": [],
   "source": [
    "import pandas as pd\n",
    "import plotly.graph_objects as go\n",
    "import numpy as np\n",
    "import matplotlib.pyplot as plt\n",
    "from datetime import datetime\n",
    "from sklearn.preprocessing import StandardScaler\n",
    "from sklearn.linear_model import LinearRegression\n",
    "from sklearn.feature_selection import SequentialFeatureSelector\n",
    "from sklearn.metrics import mean_squared_error, r2_score\n",
    "from sklearn.model_selection import train_test_split\n",
    "\n",
    "import os\n",
    "import sys\n",
    "import os\n",
    "import sys\n",
    "parent_dir = os.path.dirname(os.getcwd())\n",
    "grandparent_dir = os.path.dirname(parent_dir)\n",
    "sys.path.append(parent_dir)\n",
    "utils_dir = os.path.join(parent_dir, grandparent_dir, \"src\", \"utils\")\n",
    "sys.path.append(utils_dir)\n",
    "parent_dir = os.path.dirname(os.getcwd())\n",
    "sys.path.append(parent_dir)\n",
    "utils_dir = os.path.join(parent_dir, \"src\", \"utils\")\n",
    "sys.path.append(utils_dir)"
   ]
  },
  {
   "cell_type": "code",
   "execution_count": 30,
   "metadata": {},
   "outputs": [],
   "source": [
    "import pandas as pd\n",
    "import plotly.graph_objects as go\n",
    "import numpy as np\n",
    "import matplotlib.pyplot as plt\n",
    "from sklearn.preprocessing import StandardScaler\n",
    "from sklearn.linear_model import LinearRegression\n",
    "from sklearn.tree import DecisionTreeRegressor\n",
    "from sklearn.ensemble import RandomForestRegressor, RandomForestClassifier\n",
    "from sklearn.feature_selection import SequentialFeatureSelector\n",
    "from sklearn.model_selection import cross_val_score\n",
    "from sklearn.metrics import mean_squared_error, r2_score\n",
    "from sklearn.model_selection import train_test_split\n",
    "\n",
    "from process_data import process_data\n",
    "from weighted_accuracy import weighted_accuracy_scorer\n",
    "from plot_learning_curves import plot_learning_curves\n",
    "from weighted_accuracy_and_tools import decompose_y, reconstruct_y\n"
   ]
  },
  {
   "cell_type": "code",
   "execution_count": 31,
   "metadata": {},
   "outputs": [],
   "source": [
    "X = os.path.join(\"..\", \"..\",\"data\",\"original_input\", \"X_train_filled.csv\")\n",
    "Y = os.path.join(\"..\", \"..\",\"data\",\"original_input\", \"X_test_GgyECq8.csv\")\n",
    "W = os.path.join(\"..\", \"..\",\"data\",\"original_input\", \"y_train_jJtXgMX.csv\")\n",
    "\n",
    "X_train = pd.read_csv(X, delimiter=',')\n",
    "X_test = pd.read_csv(Y,delimiter=',')\n",
    "y_train = pd.read_csv(W, delimiter=',')\n",
    "delivery_start = X_test[\"DELIVERY_START\"]"
   ]
  },
  {
   "cell_type": "code",
   "execution_count": 32,
   "metadata": {},
   "outputs": [],
   "source": [
    "X_train = process_data(X_train.copy(deep=True), \"predicted_spot_price\", None, \"standard\")\n",
    "X_test = process_data(X_test.copy(deep=True), \"predicted_spot_price\", None, \"standard\")\n",
    "y_train = process_data(y_train.copy(deep=True), None, None, None)"
   ]
  },
  {
   "cell_type": "code",
   "execution_count": 33,
   "metadata": {},
   "outputs": [],
   "source": [
    "y_train_direction, y_train_magnitude = decompose_y(y_train['spot_id_delta'])"
   ]
  },
  {
   "cell_type": "code",
   "execution_count": 34,
   "metadata": {},
   "outputs": [
    {
     "name": "stdout",
     "output_type": "stream",
     "text": [
      "Fitting 5 folds for each of 9 candidates, totalling 45 fits\n",
      "Best parameters found:  {'min_samples_leaf': 4, 'min_samples_split': 10}\n"
     ]
    }
   ],
   "source": [
    "from sklearn.model_selection import GridSearchCV\n",
    "clf = RandomForestClassifier(n_jobs=-1)\n",
    "\n",
    "# Set up the parameter grid to search\n",
    "# Here, we are varying the number of estimators (trees) and the maximum depth of trees\n",
    "param_grid = {\n",
    "    #'n_estimators': [100, 200, 300],  # Number of trees in the forest\n",
    "    #'max_depth': [None, 10, 20, 30],  # Maximum depth of the tree\n",
    "    'min_samples_split': [2, 5, 10],  # Minimum number of samples required to split an internal node\n",
    "    'min_samples_leaf': [1, 2, 4]  # Minimum number of samples required to be at a leaf node\n",
    "}\n",
    "\n",
    "# Initialize GridSearchCV\n",
    "grid_search = GridSearchCV(estimator=clf, param_grid=param_grid, cv=5, verbose=2, n_jobs=-1)\n",
    "\n",
    "# Fit GridSearchCV\n",
    "grid_search.fit(X_train, y_train_direction)\n",
    "\n",
    "best_params_clf = grid_search.best_params_\n",
    "\n",
    "# Best parameters found\n",
    "print(\"Best parameters found: \", grid_search.best_params_)"
   ]
  },
  {
   "cell_type": "code",
   "execution_count": 35,
   "metadata": {},
   "outputs": [
    {
     "name": "stdout",
     "output_type": "stream",
     "text": [
      "Fitting 5 folds for each of 9 candidates, totalling 45 fits\n",
      "Best parameters found:  {'min_samples_leaf': 2, 'min_samples_split': 5}\n"
     ]
    }
   ],
   "source": [
    "from sklearn.ensemble import RandomForestRegressor\n",
    "from sklearn.model_selection import GridSearchCV\n",
    "\n",
    "# Initialize the RandomForestRegressor\n",
    "reg = RandomForestRegressor(n_jobs=-1)\n",
    "\n",
    "# Set up the parameter grid to search\n",
    "param_grid = {\n",
    "    #'n_estimators': [100, 200, 300],  # Number of trees in the forest\n",
    "    #'max_depth': [None, 10, 20, 30],  # Maximum depth of the tree\n",
    "    'min_samples_split': [2, 5, 10],  # Minimum number of samples required to split an internal node\n",
    "    'min_samples_leaf': [1, 2, 4]     # Minimum number of samples required to be at a leaf node\n",
    "}\n",
    "\n",
    "# Initialize GridSearchCV\n",
    "grid_search = GridSearchCV(estimator=reg, param_grid=param_grid, cv=5, verbose=2, n_jobs=-1)\n",
    "\n",
    "# Assuming X_train and y_train_magnitude are already defined\n",
    "# Fit GridSearchCV\n",
    "grid_search.fit(X_train, y_train_magnitude)\n",
    "\n",
    "best_params_rgr = grid_search.best_params_\n",
    "\n",
    "# Best parameters found\n",
    "print(\"Best parameters found: \", grid_search.best_params_)\n"
   ]
  },
  {
   "cell_type": "code",
   "execution_count": 39,
   "metadata": {},
   "outputs": [],
   "source": [
    "clf =  RandomForestClassifier(n_jobs=-1, **best_params_clf)\n",
    "clf.fit(X_train, y_train_direction)\n",
    "y_pred_dir = clf.predict(X_test)\n",
    "\n",
    "rgr =  RandomForestRegressor(n_jobs=-1, **best_params_rgr)\n",
    "rgr.fit(X_train, y_train_magnitude)\n",
    "y_pred_magn = rgr.predict(X_test)"
   ]
  },
  {
   "cell_type": "code",
   "execution_count": 40,
   "metadata": {},
   "outputs": [],
   "source": [
    "y_pred = reconstruct_y(y_pred_dir, y_pred_magn)"
   ]
  },
  {
   "cell_type": "code",
   "execution_count": 41,
   "metadata": {},
   "outputs": [],
   "source": [
    "d = {\"DELIVERY_START\" : delivery_start, \"spot_id_delta\" : y_pred.reshape(-1)}\n",
    "y_pred = pd.DataFrame(data = d)\n",
    "\n",
    "y_pred.to_csv(\"../../data/output_y_test/y_result_double_rd_forest7.csv\", index = False)"
   ]
  },
  {
   "cell_type": "code",
   "execution_count": null,
   "metadata": {},
   "outputs": [],
   "source": []
  }
 ],
 "metadata": {
  "kernelspec": {
   "display_name": "elmy_env",
   "language": "python",
   "name": "python3"
  },
  "language_info": {
   "codemirror_mode": {
    "name": "ipython",
    "version": 3
   },
   "file_extension": ".py",
   "mimetype": "text/x-python",
   "name": "python",
   "nbconvert_exporter": "python",
   "pygments_lexer": "ipython3",
   "version": "3.8.8"
  }
 },
 "nbformat": 4,
 "nbformat_minor": 2
}
