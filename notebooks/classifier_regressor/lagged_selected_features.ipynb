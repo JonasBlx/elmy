{
 "cells": [
  {
   "cell_type": "code",
   "execution_count": 53,
   "metadata": {},
   "outputs": [],
   "source": [
    "import os\n",
    "import sys\n",
    "parent_dir = os.path.dirname(os.getcwd())\n",
    "grandparent_dir = os.path.dirname(parent_dir)\n",
    "sys.path.append(parent_dir)\n",
    "utils_dir = os.path.join(parent_dir, grandparent_dir, \"src\", \"utils\")\n",
    "sys.path.append(utils_dir)\n",
    "\n",
    "import pandas as pd\n",
    "import numpy as np\n",
    "import matplotlib.pyplot as plt\n",
    "\n",
    "import seaborn as sns\n",
    "\n",
    "import tensorflow as tf\n",
    "from lag_data import create_lagged_features\n",
    "from weighted_accuracy_and_tools import decompose_y, reconstruct_y, weighted_accuracy_score\n",
    "from process_data import process_data\n",
    "\n",
    "from sklearn.ensemble import RandomForestClassifier\n",
    "from sklearn.ensemble import RandomForestRegressor"
   ]
  },
  {
   "cell_type": "code",
   "execution_count": 54,
   "metadata": {},
   "outputs": [],
   "source": [
    "X_train_path= os.path.join(\"..\", \"..\", \"data\",\"original_input\", \"X_train_Wwou3IE.csv\")\n",
    "X_train_preprocessed = pd.read_csv(X_train_path, delimiter=',')\n",
    "X_test_path= os.path.join(\"..\", \"..\", \"data\",\"original_input\", \"X_test_GgyECq8.csv\")\n",
    "X_test_preprocessed = pd.read_csv(X_test_path, delimiter=',')\n",
    "y_train_path= os.path.join(\"..\", \"..\", \"data\",\"original_input\", \"y_train_jJtXgMX.csv\")\n",
    "y_train_preprocessed = pd.read_csv(y_train_path, delimiter=',')\n",
    "delivery_start = X_test_preprocessed[\"DELIVERY_START\"]"
   ]
  },
  {
   "cell_type": "code",
   "execution_count": 55,
   "metadata": {},
   "outputs": [],
   "source": [
    "X_train = process_data(X_train_preprocessed.copy(deep=True), \"predicted_spot_price\", None, \"standard\")\n",
    "X_test = process_data(X_test_preprocessed.copy(deep=True), \"predicted_spot_price\", None, \"standard\")\n",
    "y_train = process_data(y_train_preprocessed.copy(deep=True), None, None, None)\n",
    "X_train = X_train[['load_forecast', 'nucelear_power_available', 'wind_power_forecasts_average', 'wind_power_forecasts_std']]\n",
    "X_test = X_test[['load_forecast', 'nucelear_power_available', 'wind_power_forecasts_average', 'wind_power_forecasts_std']]"
   ]
  },
  {
   "cell_type": "code",
   "execution_count": 56,
   "metadata": {},
   "outputs": [],
   "source": [
    "n_lags = 5  # Number of lagged observations\n",
    "X_train, y_train = create_lagged_features(X_train, y_train, n_lags)\n",
    "X_test, _ = create_lagged_features(X_test, pd.DataFrame([]), n_lags)"
   ]
  },
  {
   "cell_type": "code",
   "execution_count": 57,
   "metadata": {},
   "outputs": [],
   "source": [
    "y_train_direction, y_train_magnitude = decompose_y(y_train['spot_id_delta'])"
   ]
  },
  {
   "cell_type": "code",
   "execution_count": 58,
   "metadata": {},
   "outputs": [],
   "source": [
    "clf = RandomForestClassifier(random_state=42)\n",
    "clf.fit(X_train, y_train_direction)\n",
    "y_pred_direction = clf.predict(X_test)\n",
    "reg = RandomForestRegressor(random_state=42)\n",
    "reg.fit(X_train, y_train_magnitude)\n",
    "y_pred_magnitude = reg.predict(X_test)"
   ]
  },
  {
   "cell_type": "code",
   "execution_count": 59,
   "metadata": {},
   "outputs": [],
   "source": [
    "y_pred = reconstruct_y(y_pred_direction, y_pred_magnitude)"
   ]
  },
  {
   "cell_type": "code",
   "execution_count": 60,
   "metadata": {},
   "outputs": [
    {
     "data": {
      "text/plain": [
       "((4942,), (4937,), (4937, 24))"
      ]
     },
     "execution_count": 60,
     "metadata": {},
     "output_type": "execute_result"
    }
   ],
   "source": [
    "delivery_start.shape, y_pred.shape, X_test.shape"
   ]
  },
  {
   "cell_type": "code",
   "execution_count": 61,
   "metadata": {},
   "outputs": [
    {
     "data": {
      "text/plain": [
       "0       2023-04-02 00:00:00+02:00\n",
       "1       2023-04-02 01:00:00+02:00\n",
       "2       2023-04-02 02:00:00+02:00\n",
       "3       2023-04-02 03:00:00+02:00\n",
       "4       2023-04-02 04:00:00+02:00\n",
       "                  ...            \n",
       "4937    2023-10-24 19:00:00+02:00\n",
       "4938    2023-10-24 20:00:00+02:00\n",
       "4939    2023-10-24 21:00:00+02:00\n",
       "4940    2023-10-24 22:00:00+02:00\n",
       "4941    2023-10-24 23:00:00+02:00\n",
       "Name: DELIVERY_START, Length: 4942, dtype: object"
      ]
     },
     "execution_count": 61,
     "metadata": {},
     "output_type": "execute_result"
    }
   ],
   "source": [
    "delivery_start"
   ]
  },
  {
   "cell_type": "code",
   "execution_count": 62,
   "metadata": {},
   "outputs": [],
   "source": [
    "delivery_start = delivery_start.iloc[5:]\n",
    "\n",
    "# Ensure y_pred is correctly reshaped to match the adjusted delivery_start length\n",
    "# This is just a safety check; it should already match if y_pred was derived from the correctly processed X_test\n",
    "assert delivery_start.shape[0] == y_pred.reshape(-1).shape[0], \"Shape mismatch between adjusted delivery_start and y_pred\""
   ]
  },
  {
   "cell_type": "code",
   "execution_count": 63,
   "metadata": {},
   "outputs": [],
   "source": [
    "d = {\"DELIVERY_START\" : delivery_start, \"spot_id_delta\" : y_pred.reshape(-1)}\n",
    "y_pred = pd.DataFrame(data = d)\n",
    "\n",
    "y_pred.to_csv(\"../../data/output_y_test/y_result_double_rd_forest6.csv\", index = False)"
   ]
  },
  {
   "cell_type": "markdown",
   "metadata": {},
   "source": [
    "Let's do the same with a voting"
   ]
  },
  {
   "cell_type": "code",
   "execution_count": 64,
   "metadata": {},
   "outputs": [],
   "source": [
    "from sklearn.tree import DecisionTreeClassifier\n",
    "from sklearn.neighbors import KNeighborsRegressor\n",
    "from sklearn.ensemble import RandomForestRegressor, GradientBoostingRegressor, VotingRegressor\n",
    "from sklearn.neighbors import KNeighborsClassifier\n",
    "from sklearn.ensemble import RandomForestClassifier, GradientBoostingClassifier, VotingClassifier\n",
    "from sklearn.tree import DecisionTreeRegressor"
   ]
  },
  {
   "cell_type": "code",
   "execution_count": 65,
   "metadata": {},
   "outputs": [],
   "source": [
    "rf = RandomForestClassifier(random_state=42)\n",
    "dt = DecisionTreeClassifier(random_state=42)\n",
    "knn = KNeighborsClassifier(n_neighbors=5)\n",
    "\n",
    "# Create the voting classifier\n",
    "voting_clf = VotingClassifier(estimators=[('rf', rf), ('dt', dt), ('knn', knn)], voting='hard')\n",
    "\n",
    "# Train the voting classifier\n",
    "voting_clf.fit(X_train, y_train_direction)\n",
    "\n",
    "# Make predictions with the voting classifier\n",
    "y_pred_direction = voting_clf.predict(X_test)\n",
    "\n",
    "\n",
    "rf = RandomForestRegressor(random_state=42)\n",
    "dt = DecisionTreeRegressor(random_state=42)\n",
    "knn = KNeighborsRegressor(n_neighbors=5)\n",
    "\n",
    "# Create the voting regressor\n",
    "voting_reg = VotingRegressor(estimators=[('rf', rf), ('dt', dt), ('knn', knn)])\n",
    "\n",
    "# Train the voting regressor\n",
    "voting_reg.fit(X_train, y_train_magnitude)\n",
    "\n",
    "# Make predictions with the voting regressor\n",
    "y_pred_magnitude = voting_reg.predict(X_test)"
   ]
  },
  {
   "cell_type": "code",
   "execution_count": null,
   "metadata": {},
   "outputs": [],
   "source": [
    "y_pred = reconstruct_y(y_pred_direction, y_pred_magnitude)"
   ]
  },
  {
   "cell_type": "code",
   "execution_count": null,
   "metadata": {},
   "outputs": [],
   "source": [
    "d = {\"DELIVERY_START\" : delivery_start, \"spot_id_delta\" : y_pred.reshape(-1)}\n",
    "y_pred = pd.DataFrame(data = d)\n",
    "\n",
    "y_pred.to_csv(\"../../data/output_y_test/y_result_voting7.csv\", index = False)"
   ]
  }
 ],
 "metadata": {
  "kernelspec": {
   "display_name": "elmy_env",
   "language": "python",
   "name": "python3"
  },
  "language_info": {
   "codemirror_mode": {
    "name": "ipython",
    "version": 3
   },
   "file_extension": ".py",
   "mimetype": "text/x-python",
   "name": "python",
   "nbconvert_exporter": "python",
   "pygments_lexer": "ipython3",
   "version": "3.8.8"
  }
 },
 "nbformat": 4,
 "nbformat_minor": 2
}
