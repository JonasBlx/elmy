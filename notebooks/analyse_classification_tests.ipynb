{
 "cells": [
  {
   "cell_type": "code",
   "execution_count": 1,
   "metadata": {},
   "outputs": [
    {
     "ename": "NameError",
     "evalue": "name 'X_train' is not defined",
     "output_type": "error",
     "traceback": [
      "\u001b[1;31m---------------------------------------------------------------------------\u001b[0m",
      "\u001b[1;31mNameError\u001b[0m                                 Traceback (most recent call last)",
      "Cell \u001b[1;32mIn[1], line 12\u001b[0m\n\u001b[0;32m      9\u001b[0m knn \u001b[38;5;241m=\u001b[39m KNeighborsClassifier(n_neighbors\u001b[38;5;241m=\u001b[39m\u001b[38;5;241m5\u001b[39m)\n\u001b[0;32m     11\u001b[0m \u001b[38;5;66;03m# Fit the model on your training data\u001b[39;00m\n\u001b[1;32m---> 12\u001b[0m knn\u001b[38;5;241m.\u001b[39mfit(\u001b[43mX_train\u001b[49m, y_train)\n\u001b[0;32m     14\u001b[0m \u001b[38;5;66;03m# Predict on your test data\u001b[39;00m\n\u001b[0;32m     15\u001b[0m predictions \u001b[38;5;241m=\u001b[39m knn\u001b[38;5;241m.\u001b[39mpredict(X_test)\n",
      "\u001b[1;31mNameError\u001b[0m: name 'X_train' is not defined"
     ]
    }
   ],
   "source": [
    "import os\n",
    "import sys\n",
    "parent_dir = os.path.dirname(os.getcwd())\n",
    "sys.path.append(parent_dir)\n",
    "utils_dir = os.path.join(parent_dir, \"src\", \"utils\")\n",
    "sys.path.append(utils_dir)\n",
    "import pandas as pd\n",
    "import plotly.graph_objects as go\n",
    "import numpy as np\n",
    "import matplotlib.pyplot as plt\n",
    "from sklearn.preprocessing import StandardScaler\n",
    "from sklearn.linear_model import LinearRegression\n",
    "from sklearn.feature_selection import SequentialFeatureSelector\n",
    "from sklearn.model_selection import cross_val_score\n",
    "from sklearn.metrics import mean_squared_error, r2_score\n",
    "from sklearn.model_selection import train_test_split\n",
    "from tensorflow.keras.models import Sequential\n",
    "from tensorflow.keras.layers import GRU, Dense, Dropout\n",
    "from tensorflow.keras.optimizers import Adam\n",
    "from tensorflow.keras.callbacks import EarlyStopping, ReduceLROnPlateau\n",
    "from process_data import process_data\n",
    "from weighted_accuracy import weighted_accuracy_scorer\n",
    "from plot_learning_curves import plot_learning_curves"
   ]
  },
  {
   "cell_type": "code",
   "execution_count": null,
   "metadata": {},
   "outputs": [],
   "source": [
    "X_path= os.path.join(\"..\", \"data\",\"input\", \"X_train_Wwou3IE.csv\")\n",
    "X_preprocessed = pd.read_csv(X_path, delimiter=',')\n",
    "y_path= os.path.join(\"..\", \"data\",\"input\", \"y_train_jJtXgMX.csv\")\n",
    "y_preprocessed = pd.read_csv(y_path, delimiter=',')"
   ]
  },
  {
   "cell_type": "code",
   "execution_count": null,
   "metadata": {},
   "outputs": [],
   "source": [
    "cold_rate = {\n",
    "    1: 100,  # January\n",
    "    2: 90,   # February\n",
    "    3: 70,   # March\n",
    "    4: 50,   # April\n",
    "    5: 30,   # May\n",
    "    6: 10,   # June\n",
    "    7: 0,    # July\n",
    "    8: 5,    # August\n",
    "    9: 20,   # September\n",
    "    10: 40,  # October\n",
    "    11: 60,  # November\n",
    "    12: 80   # December\n",
    "}\n",
    "\n",
    "X_preprocessed['DELIVERY_START'] = pd.to_datetime(X_preprocessed['DELIVERY_START'], utc = True)\n",
    "\n",
    "X_preprocessed['month'] = X_preprocessed['DELIVERY_START'].dt.month\n",
    "X_preprocessed['cold_rate'] = X_preprocessed['month'].map(cold_rate)\n",
    "X_preprocessed.drop('month', axis=1, inplace=True)"
   ]
  },
  {
   "cell_type": "code",
   "execution_count": null,
   "metadata": {},
   "outputs": [
    {
     "data": {
      "text/plain": [
       "(                           spot_id_delta\n",
       " DELIVERY_START                          \n",
       " 2022-01-01 01:00:00+00:00             -1\n",
       " 2022-01-01 02:00:00+00:00             -1\n",
       " 2022-01-01 03:00:00+00:00             -1\n",
       " 2022-01-01 04:00:00+00:00              1\n",
       " 2022-01-01 05:00:00+00:00              1\n",
       " ...                                  ...\n",
       " 2023-03-29 17:00:00+00:00              1\n",
       " 2023-03-29 18:00:00+00:00              1\n",
       " 2023-03-29 19:00:00+00:00              1\n",
       " 2023-03-29 20:00:00+00:00              1\n",
       " 2023-03-29 21:00:00+00:00              1\n",
       " \n",
       " [10605 rows x 1 columns],\n",
       " array([-1,  1], dtype=int64))"
      ]
     },
     "execution_count": 49,
     "metadata": {},
     "output_type": "execute_result"
    }
   ],
   "source": [
    "X = process_data(X_preprocessed.copy(deep=True), \"predicted_spot_price\", None, \"standard\")\n",
    "y = process_data(y_preprocessed.copy(deep=True), None, None, None)\n",
    "y['spot_id_delta'] = y['spot_id_delta'].apply(lambda x: -1 if x < 0 else 1)\n",
    "X_train, X_test, y_train, y_test = train_test_split(X, y, test_size=0.2, random_state=42)\n",
    "y, y['spot_id_delta'].unique()"
   ]
  },
  {
   "cell_type": "code",
   "execution_count": null,
   "metadata": {},
   "outputs": [
    {
     "name": "stderr",
     "output_type": "stream",
     "text": [
      "c:\\Users\\emac\\Documents\\MachineLearningAvance\\elmy\\elmy\\elmy_env\\lib\\site-packages\\sklearn\\neighbors\\_classification.py:233: DataConversionWarning: A column-vector y was passed when a 1d array was expected. Please change the shape of y to (n_samples,), for example using ravel().\n",
      "  return self._fit(X, y)\n"
     ]
    }
   ],
   "source": [
    "import pandas as pd\n",
    "from sklearn.model_selection import train_test_split\n",
    "from sklearn.neighbors import KNeighborsClassifier\n",
    "from sklearn.metrics import accuracy_score\n",
    "from sklearn.preprocessing import StandardScaler\n",
    "\n",
    "# Initialize the KNN model\n",
    "# You can adjust 'n_neighbors' based on your validation tests to find the best value\n",
    "knn = KNeighborsClassifier(n_neighbors=5)\n",
    "\n",
    "# Fit the model on your training data\n",
    "knn.fit(X_train, y_train)\n",
    "\n",
    "# Predict on your test data\n",
    "predictions = knn.predict(X_test)\n",
    "\n",
    "\n"
   ]
  },
  {
   "cell_type": "code",
   "execution_count": null,
   "metadata": {},
   "outputs": [
    {
     "name": "stdout",
     "output_type": "stream",
     "text": [
      "Confusion Matrix:\n",
      " [[687 354]\n",
      " [341 739]]\n",
      "\n",
      "Classification Report:\n",
      "               precision    recall  f1-score   support\n",
      "\n",
      "          -1       0.67      0.66      0.66      1041\n",
      "           1       0.68      0.68      0.68      1080\n",
      "\n",
      "    accuracy                           0.67      2121\n",
      "   macro avg       0.67      0.67      0.67      2121\n",
      "weighted avg       0.67      0.67      0.67      2121\n",
      "\n",
      "Accuracy: 0.6723243752946724\n",
      "ROC AUC: 0.6721008111858257\n"
     ]
    },
    {
     "data": {
      "image/png": "[encoded data removed]",
      "text/plain": [
       "<Figure size 640x480 with 1 Axes>"
      ]
     },
     "metadata": {},
     "output_type": "display_data"
    }
   ],
   "source": [
    "from sklearn.metrics import classification_report, confusion_matrix, accuracy_score, roc_auc_score, roc_curve\n",
    "import matplotlib.pyplot as plt\n",
    "\n",
    "# Evaluation metrics\n",
    "print(\"Confusion Matrix:\\n\", confusion_matrix(y_test, predictions))\n",
    "print(\"\\nClassification Report:\\n\", classification_report(y_test, predictions))\n",
    "print(\"Accuracy:\", accuracy_score(y_test, predictions))\n",
    "# ROC and AUC, ensure your classes are encoded as 0 and 1 for these calculations\n",
    "# y_test_encoded and predictions_encoded need to be adjusted if your y_test and predictions are not in this format\n",
    "roc_auc = roc_auc_score(y_test, predictions)\n",
    "print(\"ROC AUC:\", roc_auc)\n",
    "\n",
    "# Plotting ROC Curve\n",
    "fpr, tpr, thresholds = roc_curve(y_test, knn.predict_proba(X_test)[:, 1])\n",
    "plt.plot(fpr, tpr, label='KNN (area = %0.2f)' % roc_auc)\n",
    "plt.plot([0, 1], [0, 1],'r--')\n",
    "plt.xlim([0.0, 1.0])\n",
    "plt.ylim([0.0, 1.05])\n",
    "plt.xlabel('False Positive Rate')\n",
    "plt.ylabel('True Positive Rate')\n",
    "plt.title('Receiver Operating Characteristic')\n",
    "plt.legend(loc=\"lower right\")\n",
    "plt.show()\n"
   ]
  },
  {
   "cell_type": "markdown",
   "metadata": {},
   "source": [
    "Accuracy of 0.67"
   ]
  },
  {
   "cell_type": "code",
   "execution_count": null,
   "metadata": {},
   "outputs": [
    {
     "data": {
      "text/plain": [
       "'from sklearn.svm import SVC\\nfrom sklearn.metrics import classification_report, accuracy_score\\nfrom sklearn.model_selection import train_test_split\\nimport pandas as pd\\n\\n# Initializing and training the SVM model\\nsvm_model = SVC(kernel=\\'linear\\', C=1.0)  # You can change the kernel and C value based on your requirement\\nsvm_model.fit(X_train, y_train.values.ravel())  # .values.ravel() to convert y_train to a 1D array if it\\'s not already\\n\\n# Predicting the Test set results\\ny_pred = svm_model.predict(X_test)\\n\\n# Making the Confusion Matrix and classification report\\nfrom sklearn.metrics import confusion_matrix\\ncm = confusion_matrix(y_test, y_pred)\\nprint(\"Confusion Matrix:\")\\nprint(cm)\\n\\n# Classification report\\nprint(\"\\nClassification Report:\")\\nprint(classification_report(y_test, y_pred))\\n\\n# Calculating the accuracy of the model\\naccuracy = accuracy_score(y_test, y_pred)\\nprint(f\"Accuracy: {accuracy:.2f}\")'"
      ]
     },
     "execution_count": 52,
     "metadata": {},
     "output_type": "execute_result"
    }
   ],
   "source": [
    "\"\"\"from sklearn.svm import SVC\n",
    "from sklearn.metrics import classification_report, accuracy_score\n",
    "from sklearn.model_selection import train_test_split\n",
    "import pandas as pd\n",
    "\n",
    "# Initializing and training the SVM model\n",
    "svm_model = SVC(kernel='linear', C=1.0)  # You can change the kernel and C value based on your requirement\n",
    "svm_model.fit(X_train, y_train.values.ravel())  # .values.ravel() to convert y_train to a 1D array if it's not already\n",
    "\n",
    "# Predicting the Test set results\n",
    "y_pred = svm_model.predict(X_test)\n",
    "\n",
    "# Making the Confusion Matrix and classification report\n",
    "from sklearn.metrics import confusion_matrix\n",
    "cm = confusion_matrix(y_test, y_pred)\n",
    "print(\"Confusion Matrix:\")\n",
    "print(cm)\n",
    "\n",
    "# Classification report\n",
    "print(\"\\nClassification Report:\")\n",
    "print(classification_report(y_test, y_pred))\n",
    "\n",
    "# Calculating the accuracy of the model\n",
    "accuracy = accuracy_score(y_test, y_pred)\n",
    "print(f\"Accuracy: {accuracy:.2f}\")\"\"\"\n"
   ]
  },
  {
   "cell_type": "markdown",
   "metadata": {},
   "source": [
    "Score of 0.52"
   ]
  },
  {
   "cell_type": "code",
   "execution_count": null,
   "metadata": {},
   "outputs": [
    {
     "data": {
      "text/plain": [
       "'from sklearn.linear_model import LogisticRegression\\nfrom sklearn.metrics import classification_report, accuracy_score\\nfrom sklearn.model_selection import train_test_split\\nimport pandas as pd\\n\\n# Initializing and training the Logistic Regression model\\nlog_reg = LogisticRegression(max_iter=1000)  # Increase max_iter if convergence issues occur\\nlog_reg.fit(X_train, y_train.values.ravel())  # .values.ravel() to convert y_train to a 1D array if it\\'s not already\\n\\n# Predicting the Test set results\\ny_pred = log_reg.predict(X_test)\\n\\n# Making the Confusion Matrix and classification report\\nfrom sklearn.metrics import confusion_matrix\\ncm = confusion_matrix(y_test, y_pred)\\nprint(\"Confusion Matrix:\")\\nprint(cm)\\n\\n# Classification report\\nprint(\"\\nClassification Report:\")\\nprint(classification_report(y_test, y_pred))\\n\\n# Calculating the accuracy of the model\\naccuracy = accuracy_score(y_test, y_pred)\\nprint(f\"Accuracy: {accuracy:.2f}\")'"
      ]
     },
     "execution_count": 53,
     "metadata": {},
     "output_type": "execute_result"
    }
   ],
   "source": [
    "\"\"\"from sklearn.linear_model import LogisticRegression\n",
    "from sklearn.metrics import classification_report, accuracy_score\n",
    "from sklearn.model_selection import train_test_split\n",
    "import pandas as pd\n",
    "\n",
    "# Initializing and training the Logistic Regression model\n",
    "log_reg = LogisticRegression(max_iter=1000)  # Increase max_iter if convergence issues occur\n",
    "log_reg.fit(X_train, y_train.values.ravel())  # .values.ravel() to convert y_train to a 1D array if it's not already\n",
    "\n",
    "# Predicting the Test set results\n",
    "y_pred = log_reg.predict(X_test)\n",
    "\n",
    "# Making the Confusion Matrix and classification report\n",
    "from sklearn.metrics import confusion_matrix\n",
    "cm = confusion_matrix(y_test, y_pred)\n",
    "print(\"Confusion Matrix:\")\n",
    "print(cm)\n",
    "\n",
    "# Classification report\n",
    "print(\"\\nClassification Report:\")\n",
    "print(classification_report(y_test, y_pred))\n",
    "\n",
    "# Calculating the accuracy of the model\n",
    "accuracy = accuracy_score(y_test, y_pred)\n",
    "print(f\"Accuracy: {accuracy:.2f}\")\"\"\""
   ]
  },
  {
   "cell_type": "markdown",
   "metadata": {},
   "source": [
    "Score of 0.52"
   ]
  },
  {
   "cell_type": "code",
   "execution_count": null,
   "metadata": {},
   "outputs": [
    {
     "name": "stdout",
     "output_type": "stream",
     "text": [
      "Confusion Matrix:\n",
      "[[712 329]\n",
      " [346 734]]\n",
      "\n",
      "Classification Report:\n",
      "              precision    recall  f1-score   support\n",
      "\n",
      "          -1       0.67      0.68      0.68      1041\n",
      "           1       0.69      0.68      0.69      1080\n",
      "\n",
      "    accuracy                           0.68      2121\n",
      "   macro avg       0.68      0.68      0.68      2121\n",
      "weighted avg       0.68      0.68      0.68      2121\n",
      "\n",
      "Accuracy: 0.68\n"
     ]
    }
   ],
   "source": [
    "from sklearn.tree import DecisionTreeClassifier\n",
    "from sklearn.metrics import classification_report, accuracy_score, confusion_matrix\n",
    "from sklearn.model_selection import train_test_split\n",
    "import pandas as pd\n",
    "\n",
    "# Assuming X, y are already defined and preprocessed as per your earlier message\n",
    "# Splitting the dataset into the Training set and Test set\n",
    "X_train, X_test, y_train, y_test = train_test_split(X, y, test_size = 0.2, random_state = 42)\n",
    "\n",
    "# Initializing and training the Decision Tree model\n",
    "decision_tree = DecisionTreeClassifier(random_state=42)\n",
    "decision_tree.fit(X_train, y_train.values.ravel())  # .values.ravel() to convert y_train to a 1D array if it's not already\n",
    "\n",
    "# Predicting the Test set results\n",
    "y_pred = decision_tree.predict(X_test)\n",
    "\n",
    "# Making the Confusion Matrix\n",
    "cm = confusion_matrix(y_test, y_pred)\n",
    "print(\"Confusion Matrix:\")\n",
    "print(cm)\n",
    "\n",
    "# Classification report\n",
    "print(\"\\nClassification Report:\")\n",
    "print(classification_report(y_test, y_pred))\n",
    "\n",
    "# Calculating the accuracy of the model\n",
    "accuracy = accuracy_score(y_test, y_pred)\n",
    "print(f\"Accuracy: {accuracy:.2f}\")\n"
   ]
  }
 ],
 "metadata": {
  "kernelspec": {
   "display_name": "elmy_env",
   "language": "python",
   "name": "python3"
  },
  "language_info": {
   "codemirror_mode": {
    "name": "ipython",
    "version": 3
   },
   "file_extension": ".py",
   "mimetype": "text/x-python",
   "name": "python",
   "nbconvert_exporter": "python",
   "pygments_lexer": "ipython3",
   "version": "3.8.8"
  }
 },
 "nbformat": 4,
 "nbformat_minor": 2
}
