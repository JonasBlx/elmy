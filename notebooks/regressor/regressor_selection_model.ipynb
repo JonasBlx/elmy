{
 "cells": [
  {
   "cell_type": "code",
   "execution_count": 1,
   "metadata": {},
   "outputs": [],
   "source": [
    "import os\n",
    "import sys\n",
    "parent_dir = os.path.dirname(os.getcwd())\n",
    "grandparent_dir = os.path.dirname(parent_dir)\n",
    "sys.path.append(parent_dir)\n",
    "utils_dir = os.path.join(parent_dir, grandparent_dir, \"src\", \"utils\")\n",
    "sys.path.append(utils_dir)\n",
    "\n",
    "from weighted_accuracy_and_tools import decompose_y, reconstruct_y, weighted_accuracy_score\n",
    "\n",
    "from sklearn.model_selection import train_test_split\n",
    "from sklearn.metrics import mean_squared_error\n",
    "from sklearn.linear_model import LinearRegression\n",
    "from sklearn.tree import DecisionTreeRegressor\n",
    "from sklearn.ensemble import RandomForestRegressor, GradientBoostingRegressor, VotingRegressor\n",
    "from sklearn.neighbors import KNeighborsRegressor\n",
    "\n",
    "import numpy as np\n",
    "import pandas as pd"
   ]
  },
  {
   "cell_type": "code",
   "execution_count": 2,
   "metadata": {},
   "outputs": [],
   "source": [
    "X_path= os.path.join(\"..\",\"..\", \"data\",\"enriched_input\", \"X_train.csv\")\n",
    "X = pd.read_csv(X_path, delimiter=',')\n",
    "\n",
    "y_path= os.path.join(\"..\", \"..\", \"data\",\"enriched_input\", \"y_train.csv\")\n",
    "y = pd.read_csv(y_path, delimiter=',')"
   ]
  },
  {
   "cell_type": "code",
   "execution_count": 3,
   "metadata": {},
   "outputs": [
    {
     "data": {
      "text/plain": [
       "(10605, 16)"
      ]
     },
     "execution_count": 3,
     "metadata": {},
     "output_type": "execute_result"
    }
   ],
   "source": [
    "X.set_index(\"DELIVERY_START\", inplace=True)\n",
    "y.set_index(\"DELIVERY_START\", inplace=True)\n",
    "X.index = pd.to_datetime(X.index, utc=True)\n",
    "y.index = pd.to_datetime(y.index, utc=True)\n",
    "X.shape"
   ]
  },
  {
   "cell_type": "code",
   "execution_count": 4,
   "metadata": {},
   "outputs": [],
   "source": [
    "_, y_magintude = decompose_y(y['spot_id_delta'])"
   ]
  },
  {
   "cell_type": "code",
   "execution_count": 5,
   "metadata": {},
   "outputs": [],
   "source": [
    "X_train, X_test, y_train, y_test = train_test_split(X, y_magintude, test_size=0.2, random_state=42)"
   ]
  },
  {
   "cell_type": "code",
   "execution_count": 6,
   "metadata": {},
   "outputs": [],
   "source": [
    "linear_reg = LinearRegression()\n",
    "decision_tree_reg = DecisionTreeRegressor(random_state=42)\n",
    "random_forest_reg = RandomForestRegressor(random_state=42)\n",
    "gradient_boosting_reg = GradientBoostingRegressor(random_state=42)\n",
    "knn_reg = KNeighborsRegressor()\n",
    "\n",
    "# Create the voting regressor with all models\n",
    "voting_reg = VotingRegressor(\n",
    "    estimators=[\n",
    "        ('linear_reg', linear_reg),\n",
    "        ('decision_tree_reg', decision_tree_reg),\n",
    "        ('random_forest_reg', random_forest_reg),\n",
    "        ('gradient_boosting_reg', gradient_boosting_reg),\n",
    "        ('knn_reg', knn_reg)\n",
    "    ]\n",
    ")\n",
    "\n",
    "# Train the voting regressor\n",
    "voting_reg.fit(X_train, y_train)\n",
    "\n",
    "# Make predictions and evaluate the voting regressor\n",
    "y_pred_voting = voting_reg.predict(X_test)\n",
    "rmse_voting = np.sqrt(mean_squared_error(y_test, y_pred_voting))"
   ]
  },
  {
   "cell_type": "code",
   "execution_count": 7,
   "metadata": {},
   "outputs": [
    {
     "data": {
      "text/plain": [
       "17.25741154116155"
      ]
     },
     "execution_count": 7,
     "metadata": {},
     "output_type": "execute_result"
    }
   ],
   "source": [
    "rmse_voting"
   ]
  },
  {
   "cell_type": "code",
   "execution_count": 8,
   "metadata": {},
   "outputs": [],
   "source": [
    "regressors = [linear_reg, decision_tree_reg, random_forest_reg, gradient_boosting_reg, knn_reg]\n",
    "regressor_names = ['Linear Regression', 'Decision Tree Regressor', 'Random Forest Regressor', \n",
    "                   'Gradient Boosting Regressor', 'KNN Regressor']\n",
    "rmse_values = {}\n",
    "\n",
    "for reg, name in zip(regressors, regressor_names):\n",
    "    reg.fit(X_train, y_train)\n",
    "    y_pred = reg.predict(X_test)\n",
    "    rmse_values[name] = np.sqrt(mean_squared_error(y_test, y_pred))"
   ]
  },
  {
   "cell_type": "code",
   "execution_count": 9,
   "metadata": {},
   "outputs": [
    {
     "data": {
      "text/plain": [
       "{'Linear Regression': 23.741257273868058,\n",
       " 'Decision Tree Regressor': 22.372004710839715,\n",
       " 'Random Forest Regressor': 15.3864156190305,\n",
       " 'Gradient Boosting Regressor': 19.553636956303297,\n",
       " 'KNN Regressor': 20.580274326210798}"
      ]
     },
     "execution_count": 9,
     "metadata": {},
     "output_type": "execute_result"
    }
   ],
   "source": [
    "rmse_values"
   ]
  }
 ],
 "metadata": {
  "kernelspec": {
   "display_name": "elmy_env",
   "language": "python",
   "name": "python3"
  },
  "language_info": {
   "codemirror_mode": {
    "name": "ipython",
    "version": 3
   },
   "file_extension": ".py",
   "mimetype": "text/x-python",
   "name": "python",
   "nbconvert_exporter": "python",
   "pygments_lexer": "ipython3",
   "version": "3.8.8"
  }
 },
 "nbformat": 4,
 "nbformat_minor": 2
}
