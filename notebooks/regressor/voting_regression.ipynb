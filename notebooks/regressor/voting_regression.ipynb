{
 "cells": [
  {
   "cell_type": "code",
   "execution_count": 1,
   "metadata": {},
   "outputs": [],
   "source": [
    "import os\n",
    "import sys\n",
    "parent_dir = os.path.dirname(os.getcwd())\n",
    "sys.path.append(parent_dir)\n",
    "utils_dir = os.path.join(parent_dir, \"src\", \"utils\")\n",
    "sys.path.append(utils_dir)\n",
    "parent_dir = os.path.dirname(os.getcwd())\n",
    "grandparent_dir = os.path.dirname(parent_dir)\n",
    "sys.path.append(parent_dir)\n",
    "utils_dir = os.path.join(parent_dir, grandparent_dir, \"src\", \"utils\")\n",
    "sys.path.append(utils_dir)"
   ]
  },
  {
   "cell_type": "code",
   "execution_count": 2,
   "metadata": {},
   "outputs": [
    {
     "ename": "ModuleNotFoundError",
     "evalue": "No module named 'process_data'",
     "output_type": "error",
     "traceback": [
      "\u001b[1;31m---------------------------------------------------------------------------\u001b[0m",
      "\u001b[1;31mModuleNotFoundError\u001b[0m                       Traceback (most recent call last)",
      "Cell \u001b[1;32mIn[2], line 14\u001b[0m\n\u001b[0;32m     12\u001b[0m \u001b[38;5;28;01mfrom\u001b[39;00m \u001b[38;5;21;01mtensorflow\u001b[39;00m\u001b[38;5;21;01m.\u001b[39;00m\u001b[38;5;21;01mkeras\u001b[39;00m\u001b[38;5;21;01m.\u001b[39;00m\u001b[38;5;21;01moptimizers\u001b[39;00m \u001b[38;5;28;01mimport\u001b[39;00m Adam\n\u001b[0;32m     13\u001b[0m \u001b[38;5;28;01mfrom\u001b[39;00m \u001b[38;5;21;01mtensorflow\u001b[39;00m\u001b[38;5;21;01m.\u001b[39;00m\u001b[38;5;21;01mkeras\u001b[39;00m\u001b[38;5;21;01m.\u001b[39;00m\u001b[38;5;21;01mcallbacks\u001b[39;00m \u001b[38;5;28;01mimport\u001b[39;00m EarlyStopping, ReduceLROnPlateau\n\u001b[1;32m---> 14\u001b[0m \u001b[38;5;28;01mfrom\u001b[39;00m \u001b[38;5;21;01mprocess_data\u001b[39;00m \u001b[38;5;28;01mimport\u001b[39;00m process_data\n\u001b[0;32m     15\u001b[0m \u001b[38;5;28;01mfrom\u001b[39;00m \u001b[38;5;21;01mweighted_accuracy\u001b[39;00m \u001b[38;5;28;01mimport\u001b[39;00m weighted_accuracy_scorer\n\u001b[0;32m     16\u001b[0m \u001b[38;5;28;01mimport\u001b[39;00m \u001b[38;5;21;01mos\u001b[39;00m\n",
      "\u001b[1;31mModuleNotFoundError\u001b[0m: No module named 'process_data'"
     ]
    }
   ],
   "source": [
    "import pandas as pd\n",
    "import plotly.graph_objects as go\n",
    "import numpy as np\n",
    "import matplotlib.pyplot as plt\n",
    "from sklearn.preprocessing import StandardScaler\n",
    "from sklearn.linear_model import LinearRegression\n",
    "from sklearn.feature_selection import SequentialFeatureSelector\n",
    "from sklearn.metrics import mean_squared_error, r2_score\n",
    "from sklearn.model_selection import train_test_split\n",
    "from tensorflow.keras.models import Sequential\n",
    "from tensorflow.keras.layers import GRU, Dense, Dropout\n",
    "from tensorflow.keras.optimizers import Adam\n",
    "from tensorflow.keras.callbacks import EarlyStopping, ReduceLROnPlateau\n",
    "from process_data import process_data\n",
    "from weighted_accuracy import weighted_accuracy_scorer\n",
    "import os\n",
    "import sys\n",
    "\n",
    "from weighted_accuracy_and_tools import decompose_y, reconstruct_y, weighted_accuracy_score\n",
    "from process_data import process_data\n",
    "from sklearn.model_selection import train_test_split\n",
    "from sklearn.neighbors import KNeighborsClassifier\n",
    "from sklearn.tree import DecisionTreeClassifier\n",
    "from sklearn.linear_model import LogisticRegression\n",
    "from sklearn.ensemble import RandomForestClassifier, RandomForestRegressor\n",
    "from sklearn.ensemble import RandomForestClassifier, GradientBoostingClassifier, VotingClassifier\n",
    "from sklearn.linear_model import LinearRegression\n",
    "from sklearn.tree import DecisionTreeRegressor\n",
    "from sklearn.ensemble import RandomForestRegressor, GradientBoostingRegressor, VotingRegressor\n",
    "from sklearn.neighbors import KNeighborsRegressor\n",
    "import numpy as np\n",
    "import pandas as pd"
   ]
  },
  {
   "cell_type": "code",
   "execution_count": null,
   "metadata": {},
   "outputs": [],
   "source": [
    "X_train_path= os.path.join(\"..\", \"..\", \"data\",\"original_input\", \"X_train_Wwou3IE.csv\")\n",
    "X_train_preprocessed = pd.read_csv(X_train_path, delimiter=',')\n",
    "X_test_path= os.path.join(\"..\", \"..\", \"data\",\"original_input\", \"X_test_GgyECq8.csv\")\n",
    "X_test_preprocessed = pd.read_csv(X_test_path, delimiter=',')\n",
    "y_train_path= os.path.join(\"..\", \"..\", \"data\",\"original_input\", \"y_train_jJtXgMX.csv\")\n",
    "y_train_preprocessed = pd.read_csv(y_train_path, delimiter=',')\n",
    "delivery_start = X_test_preprocessed[\"DELIVERY_START\"]\n",
    "X_train_preprocessed"
   ]
  },
  {
   "cell_type": "code",
   "execution_count": null,
   "metadata": {},
   "outputs": [],
   "source": [
    "X_train = process_data(X_train_preprocessed.copy(deep=True), \"predicted_spot_price\", None, \"standard\")\n",
    "X_test = process_data(X_test_preprocessed.copy(deep=True), \"predicted_spot_price\", None, \"standard\")\n",
    "y_train = process_data(y_train_preprocessed.copy(deep=True), None, None, None)"
   ]
  },
  {
   "cell_type": "code",
   "execution_count": null,
   "metadata": {},
   "outputs": [],
   "source": [
    "linear_reg = LinearRegression()\n",
    "decision_tree_reg = DecisionTreeRegressor(random_state=42)\n",
    "random_forest_reg = RandomForestRegressor(random_state=42)\n",
    "gradient_boosting_reg = GradientBoostingRegressor(random_state=42)\n",
    "knn_reg = KNeighborsRegressor()\n",
    "\n",
    "# Create the voting regressor with all models\n",
    "voting_reg = VotingRegressor(\n",
    "    estimators=[\n",
    "        ('linear_reg', linear_reg),\n",
    "        ('decision_tree_reg', decision_tree_reg),\n",
    "        ('random_forest_reg', random_forest_reg),\n",
    "        ('gradient_boosting_reg', gradient_boosting_reg),\n",
    "        ('knn_reg', knn_reg)\n",
    "    ]\n",
    ")\n",
    "\n",
    "# Train the voting regressor\n",
    "voting_reg.fit(X_train, y_train)\n",
    "\n",
    "# Make predictions and evaluate the voting regressor\n",
    "y_pred = voting_reg.predict(X_test)"
   ]
  },
  {
   "cell_type": "code",
   "execution_count": null,
   "metadata": {},
   "outputs": [],
   "source": [
    "d = {\"DELIVERY_START\" : delivery_start, \"spot_id_delta\" : y_pred.reshape(-1)}\n",
    "y_pred = pd.DataFrame(data = d)\n",
    "\n",
    "y_pred.to_csv(\"../../data/output_y_test/y_result_voting5.csv\", index = False)"
   ]
  }
 ],
 "metadata": {
  "kernelspec": {
   "display_name": "elmy_env",
   "language": "python",
   "name": "python3"
  },
  "language_info": {
   "codemirror_mode": {
    "name": "ipython",
    "version": 3
   },
   "file_extension": ".py",
   "mimetype": "text/x-python",
   "name": "python",
   "nbconvert_exporter": "python",
   "pygments_lexer": "ipython3",
   "version": "3.8.8"
  }
 },
 "nbformat": 4,
 "nbformat_minor": 2
}
